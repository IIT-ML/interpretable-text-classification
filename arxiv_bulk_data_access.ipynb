{
 "cells": [
  {
   "cell_type": "markdown",
   "metadata": {},
   "source": [
    "# Arxiv Papers\n",
    "[source](https://arxiv.org/help/bulk_data)"
   ]
  },
  {
   "cell_type": "code",
   "execution_count": 29,
   "metadata": {},
   "outputs": [],
   "source": [
    "import urllib.request\n",
    "\n",
    "url = 'http://export.arxiv.org/api/query?search_query=all:electron&start=0&max_results=10'\n",
    "data = urllib.request.urlopen(url).read().strip()"
   ]
  },
  {
   "cell_type": "code",
   "execution_count": 30,
   "metadata": {},
   "outputs": [
    {
     "data": {
      "text/plain": [
       "bytes"
      ]
     },
     "execution_count": 30,
     "metadata": {},
     "output_type": "execute_result"
    }
   ],
   "source": [
    "type(data)"
   ]
  },
  {
   "cell_type": "code",
   "execution_count": 33,
   "metadata": {},
   "outputs": [
    {
     "data": {
      "text/plain": [
       "b'<?xml version=\"1.0\" encoding=\"UTF-8\"?>\\n<feed xmlns=\"http://www.w3.org/2005/Atom\">\\n  <link href=\"http://arxiv.org/api/query?search_query%3Dall%3Aelectron%26id_list%3D%26start%3D0%26max_results%3D10\" rel=\"self\" type=\"application/atom+xml\"/>\\n  <title type=\"html\">ArXiv Query: search_query=all:electron&amp;id_list=&amp;start=0&amp;max_results=10</title>\\n  <id>http://arxiv.org/api/WyBPOs+pRgzCTXTMWhtnbcOmk6g</id>\\n  <updated>2019-06-26T00:00:00-04:00</updated>\\n  <opensearch:totalResults xmlns:opensearch=\"http://a9.com/-/spec/opensearch/1.1/\">146428</opensearch:totalResults>\\n  <opensearch:startIndex xmlns:opensearch=\"http://a9.com/-/spec/opensearch/1.1/\">0</opensearch:startIndex>\\n  <opensearch:itemsPerPage xmlns:opensearch=\"http://a9.com/-/spec/opensearch/1.1/\">10</opensearch:itemsPerPage>\\n  <entry>\\n    <id>http://arxiv.org/abs/cond-mat/0102536v1</id>\\n    <updated>2001-02-28T20:12:09Z</updated>\\n    <published>2001-02-28T20:12:09Z</published>\\n    <title>Impact of Electron-Electron Cusp on Configuration Interaction Energies</title>\\n    <summary>  The effect of the electron-electron cusp on the convergence of configuration\\ninteraction (CI) wave functions is examined. By analogy with the\\npseudopotential approach for electron-ion interactions, an effective\\nelectron-electron interaction is developed which closely reproduces the\\nscattering of the Coulomb interaction but is smooth and finite at zero\\nelectron-electron separation. The exact many-electron wave function for this\\nsmooth effective interaction has no cusp at zero electron-electron separation.\\nWe perform CI and quantum Monte Carlo calculations for He and Be atoms, both\\nwith the Coulomb electron-electron interaction and with the smooth effective\\nelectron-electron interaction. We find that convergence of the CI expansion of\\nthe wave function for the smooth electron-electron interaction is not\\nsignificantly improved compared with that for the divergent Coulomb interaction\\nfor energy differences on the order of 1 mHartree. This shows that, contrary to\\npopular belief, description of the electron-electron cusp is not a limiting\\nfactor, to within chemical accuracy, for CI calculations.\\n</summary>\\n    <author>\\n      <name>David Prendergast</name>\\n      <arxiv:affiliation xmlns:arxiv=\"http://arxiv.org/schemas/atom\">Department of Physics</arxiv:affiliation>\\n    </author>\\n    <author>\\n      <name>M. Nolan</name>\\n      <arxiv:affiliation xmlns:arxiv=\"http://arxiv.org/schemas/atom\">NMRC, University College, Cork, Ireland</arxiv:affiliation>\\n    </author>\\n    <author>\\n      <name>Claudia Filippi</name>\\n      <arxiv:affiliation xmlns:arxiv=\"http://arxiv.org/schemas/atom\">Department of Physics</arxiv:affiliation>\\n    </author>\\n    <author>\\n      <name>Stephen Fahy</name>\\n      <arxiv:affiliation xmlns:arxiv=\"http://arxiv.org/schemas/atom\">Department of Physics</arxiv:affiliation>\\n    </author>\\n    <author>\\n      <name>J. C. Greer</name>\\n      <arxiv:affiliation xmlns:arxiv=\"http://arxiv.org/schemas/atom\">NMRC, University College, Cork, Ireland</arxiv:affiliation>\\n    </author>\\n    <arxiv:doi xmlns:arxiv=\"http://arxiv.org/schemas/atom\">10.1063/1.1383585</arxiv:doi>\\n    <link title=\"doi\" href=\"http://dx.doi.org/10.1063/1.1383585\" rel=\"related\"/>\\n    <arxiv:comment xmlns:arxiv=\"http://arxiv.org/schemas/atom\">11 pages, 6 figures, 3 tables, LaTeX209, submitted to The Journal of\\n  Chemical Physics</arxiv:comment>\\n    <arxiv:journal_ref xmlns:arxiv=\"http://arxiv.org/schemas/atom\">J. Chem. Phys. 115, 1626 (2001)</arxiv:journal_ref>\\n    <link href=\"http://arxiv.org/abs/cond-mat/0102536v1\" rel=\"alternate\" type=\"text/html\"/>\\n    <link title=\"pdf\" href=\"http://arxiv.org/pdf/cond-mat/0102536v1\" rel=\"related\" type=\"application/pdf\"/>\\n    <arxiv:primary_category xmlns:arxiv=\"http://arxiv.org/schemas/atom\" term=\"cond-mat.str-el\" scheme=\"http://arxiv.org/schemas/atom\"/>\\n    <category term=\"cond-mat.str-el\" scheme=\"http://arxiv.org/schemas/atom\"/>\\n  </entry>\\n  <entry>\\n    <id>http://arxiv.org/abs/astro-ph/0608371v1</id>\\n    <updated>2006-08-17T14:05:46Z</updated>\\n    <published>2006-08-17T14:05:46Z</published>\\n    <title>Electron thermal conductivity owing to collisions between degenerate\\n  electrons</title>\\n    <summary>  We calculate the thermal conductivity of electrons produced by\\nelectron-electron Coulomb scattering in a strongly degenerate electron gas\\ntaking into account the Landau damping of transverse plasmons. The Landau\\ndamping strongly reduces this conductivity in the domain of ultrarelativistic\\nelectrons at temperatures below the electron plasma temperature. In the inner\\ncrust of a neutron star at temperatures T &lt; 1e7 K this thermal conductivity\\ncompletely dominates over the electron conductivity due to electron-ion\\n(electron-phonon) scattering and becomes competitive with the the electron\\nconductivity due to scattering of electrons by impurity ions.\\n</summary>\\n    <author>\\n      <name>P. S. Shternin</name>\\n      <arxiv:affiliation xmlns:arxiv=\"http://arxiv.org/schemas/atom\">Ioffe Physico-Technical Institute</arxiv:affiliation>\\n    </author>\\n    <author>\\n      <name>D. G. Yakovlev</name>\\n      <arxiv:affiliation xmlns:arxiv=\"http://arxiv.org/schemas/atom\">Ioffe Physico-Technical Institute</arxiv:affiliation>\\n    </author>\\n    <arxiv:doi xmlns:arxiv=\"http://arxiv.org/schemas/atom\">10.1103/PhysRevD.74.043004</arxiv:doi>\\n    <link title=\"doi\" href=\"http://dx.doi.org/10.1103/PhysRevD.74.043004\" rel=\"related\"/>\\n    <arxiv:comment xmlns:arxiv=\"http://arxiv.org/schemas/atom\">8 pages, 3 figures</arxiv:comment>\\n    <arxiv:journal_ref xmlns:arxiv=\"http://arxiv.org/schemas/atom\">Phys.Rev. D74 (2006) 043004</arxiv:journal_ref>\\n    <link href=\"http://arxiv.org/abs/astro-ph/0608371v1\" rel=\"alternate\" type=\"text/html\"/>\\n    <link title=\"pdf\" href=\"http://arxiv.org/pdf/astro-ph/0608371v1\" rel=\"related\" type=\"application/pdf\"/>\\n    <arxiv:primary_category xmlns:arxiv=\"http://arxiv.org/schemas/atom\" term=\"astro-ph\" scheme=\"http://arxiv.org/schemas/atom\"/>\\n    <category term=\"astro-ph\" scheme=\"http://arxiv.org/schemas/atom\"/>\\n  </entry>\\n  <entry>\\n    <id>http://arxiv.org/abs/1802.06593v1</id>\\n    <updated>2018-02-19T11:51:42Z</updated>\\n    <published>2018-02-19T11:51:42Z</published>\\n    <title>Electron pairing: from metastable electron pair to bipolaron</title>\\n    <summary>  Starting from the shell structure in atoms and the significant correlation\\nwithin electron pairs, we distinguish the exchange-correlation effects between\\ntwo electrons of opposite spins occupying the same orbital from the average\\ncorrelation among many electrons in a crystal. In the periodic potential of the\\ncrystal with lattice constant larger than the effective Bohr radius of the\\nvalence electrons, these correlated electron pairs can form a metastable energy\\nband above the corresponding single-electron band separated by an energy gap.\\nIn order to determine if these metastable electron pairs can be stabilized, we\\ncalculate the many-electron exchange-correlation renormalization and the\\npolaron correction to the two-band system with single electrons and electron\\npairs. We find that the electron-phonon interaction is essential to\\ncounterbalance the Coulomb repulsion and to stabilize the electron pairs. The\\ninterplay of the electron-electron and electron-phonon interactions, manifested\\nin the exchange-correlation energies, polaron effects, and screening, is\\nresponsible for the formation of electron pairs (bipolarons) that are located\\non the Fermi surface of the single-electron band.\\n</summary>\\n    <author>\\n      <name>Guo-Qiang Hai</name>\\n    </author>\\n    <author>\\n      <name>Ladir C\\xc3\\xa2ndido</name>\\n    </author>\\n    <author>\\n      <name>Braulio G. A. Brito</name>\\n    </author>\\n    <author>\\n      <name>Fran\\xc3\\xa7ois M. Peeters</name>\\n    </author>\\n    <arxiv:doi xmlns:arxiv=\"http://arxiv.org/schemas/atom\">10.1088/2399-6528/aaaee0</arxiv:doi>\\n    <link title=\"doi\" href=\"http://dx.doi.org/10.1088/2399-6528/aaaee0\" rel=\"related\"/>\\n    <arxiv:comment xmlns:arxiv=\"http://arxiv.org/schemas/atom\">17 pages, 6 figures, Journal of Physics Communications 2018</arxiv:comment>\\n    <link href=\"http://arxiv.org/abs/1802.06593v1\" rel=\"alternate\" type=\"text/html\"/>\\n    <link title=\"pdf\" href=\"http://arxiv.org/pdf/1802.06593v1\" rel=\"related\" type=\"application/pdf\"/>\\n    <arxiv:primary_category xmlns:arxiv=\"http://arxiv.org/schemas/atom\" term=\"cond-mat.str-el\" scheme=\"http://arxiv.org/schemas/atom\"/>\\n    <category term=\"cond-mat.str-el\" scheme=\"http://arxiv.org/schemas/atom\"/>\\n  </entry>\\n  <entry>\\n    <id>http://arxiv.org/abs/1501.04914v1</id>\\n    <updated>2015-01-20T18:48:22Z</updated>\\n    <published>2015-01-20T18:48:22Z</published>\\n    <title>Hamiltonian of a many-electron system with single-electron and\\n  electron-pair states in a two-dimensional periodic potential</title>\\n    <summary>  Based on the metastable electron-pair energy band in a two-dimensional (2D)\\nperiodic potential obtained previously by Hai and Castelano [J. Phys.: Condens.\\nMatter 26, 115502 (2014)], we present in this work a Hamiltonian of many\\nelectrons consisting of single electrons and electron pairs in the 2D system.\\nThe electron-pair states are metastable of energies higher than those of the\\nsingle-electron states at low electron density. We assume two different\\nscenarios for the single-electron band. When it is considered as the lowest\\nconduction band of a crystal, we compare the obtained Hamiltonian with the\\nphenomenological model Hamiltonian of a boson-fermion mixture proposed by\\nFriedberg and Lee [Phys. Rev. B 40, 6745 (1989)]. Single-electron-electron-pair\\nand electron-pair-electron-pair interaction terms appear in our Hamiltonian and\\nthe interaction potentials can be determined from the electron-electron Coulomb\\ninteractions. When we consider the single-electron band as the highest valence\\nband of a crystal, we show that holes in this valence band are important for\\nstabilization of the electron-pair states in the system.\\n</summary>\\n    <author>\\n      <name>G. -Q. Hai</name>\\n    </author>\\n    <author>\\n      <name>F. M. Peeters</name>\\n    </author>\\n    <arxiv:doi xmlns:arxiv=\"http://arxiv.org/schemas/atom\">10.1140/epjb/e2014-50686-x</arxiv:doi>\\n    <link title=\"doi\" href=\"http://dx.doi.org/10.1140/epjb/e2014-50686-x\" rel=\"related\"/>\\n    <arxiv:journal_ref xmlns:arxiv=\"http://arxiv.org/schemas/atom\">Eur. Phys. J. B (2015) 88: 20</arxiv:journal_ref>\\n    <link href=\"http://arxiv.org/abs/1501.04914v1\" rel=\"alternate\" type=\"text/html\"/>\\n    <link title=\"pdf\" href=\"http://arxiv.org/pdf/1501.04914v1\" rel=\"related\" type=\"application/pdf\"/>\\n    <arxiv:primary_category xmlns:arxiv=\"http://arxiv.org/schemas/atom\" term=\"cond-mat.supr-con\" scheme=\"http://arxiv.org/schemas/atom\"/>\\n    <category term=\"cond-mat.supr-con\" scheme=\"http://arxiv.org/schemas/atom\"/>\\n    <category term=\"cond-mat.mes-hall\" scheme=\"http://arxiv.org/schemas/atom\"/>\\n  </entry>\\n  <entry>\\n    <id>http://arxiv.org/abs/0707.4225v1</id>\\n    <updated>2007-07-28T09:32:22Z</updated>\\n    <published>2007-07-28T09:32:22Z</published>\\n    <title>Electron-Electron Bremsstrahlung Emission and the Inference of Electron\\n  Flux Spectra in Solar Flares</title>\\n    <summary>  Although both electron-ion and electron-electron bremsstrahlung contribute to\\nthe hard X-ray emission from solar flares, the latter is normally ignored. Such\\nan omission is not justified at electron (and photon) energies above $\\\\sim 300$\\nkeV, and inclusion of the additional electron-electron bremsstrahlung in\\ngeneral makes the electron spectrum required to produce a given hard X-ray\\nspectrum steeper at high energies.\\n  Unlike electron-ion bremsstrahlung, electron-electron bremsstrahlung cannot\\nproduce photons of all energies up to the maximum electron energy involved. The\\nmaximum possible photon energy depends on the angle between the direction of\\nthe emitting electron and the emitted photon, and this suggests a diagnostic\\nfor an upper cutoff energy and/or for the degree of beaming of the accelerated\\nelectrons.\\n  We analyze the large event of January 17, 2005 observed by RHESSI and show\\nthat the upward break around 400 keV in the observed hard X-ray spectrum is\\nnaturally accounted for by the inclusion of electron-electron bremsstrahlung.\\nIndeed, the mean source electron spectrum recovered through a regularized\\ninversion of the hard X-ray spectrum, using a cross-section that includes both\\nelectron-ion and electron-electron terms, has a relatively constant spectral\\nindex $\\\\delta$ over the range from electron kinetic energy $E = 200$ keV to $E\\n= 1$ MeV. However, the level of detail discernible in the recovered electron\\nspectrum is not sufficient to determine whether or not any upper cutoff energy\\nexists.\\n</summary>\\n    <author>\\n      <name>Eduard P. Kontar</name>\\n    </author>\\n    <author>\\n      <name>A. Gordon Emslie</name>\\n    </author>\\n    <author>\\n      <name>Anna Maria Massone</name>\\n    </author>\\n    <author>\\n      <name>Michele Piana</name>\\n    </author>\\n    <author>\\n      <name>John C. Brown</name>\\n    </author>\\n    <author>\\n      <name>Marco Prato</name>\\n    </author>\\n    <arxiv:doi xmlns:arxiv=\"http://arxiv.org/schemas/atom\">10.1086/521977</arxiv:doi>\\n    <link title=\"doi\" href=\"http://dx.doi.org/10.1086/521977\" rel=\"related\"/>\\n    <arxiv:comment xmlns:arxiv=\"http://arxiv.org/schemas/atom\">7 pages, 5 figures, submitted to Astrophysical Journal</arxiv:comment>\\n    <link href=\"http://arxiv.org/abs/0707.4225v1\" rel=\"alternate\" type=\"text/html\"/>\\n    <link title=\"pdf\" href=\"http://arxiv.org/pdf/0707.4225v1\" rel=\"related\" type=\"application/pdf\"/>\\n    <arxiv:primary_category xmlns:arxiv=\"http://arxiv.org/schemas/atom\" term=\"astro-ph\" scheme=\"http://arxiv.org/schemas/atom\"/>\\n    <category term=\"astro-ph\" scheme=\"http://arxiv.org/schemas/atom\"/>\\n  </entry>\\n  <entry>\\n    <id>http://arxiv.org/abs/astro-ph/9904306v1</id>\\n    <updated>1999-04-22T15:54:59Z</updated>\\n    <published>1999-04-22T15:54:59Z</published>\\n    <title>Improved scenario of baryogenesis</title>\\n    <summary>  It is assumed that, in the primordial plasma, at the temperatures above the\\nmass of electron, fermions are in the neutral state being the superposition of\\nparticle and antiparticle. There exists neutral proton-electron symmetry.\\nProton-electron equilibrium is defined by the proton-electron mass difference.\\nAt the temperature equal to the mass of electron, pairs of neutral electrons\\nannihilate into photons, and pairs of neutral protons and electrons survive as\\nprotons and electrons.\\n</summary>\\n    <author>\\n      <name>D. L. Khokhlov</name>\\n    </author>\\n    <arxiv:comment xmlns:arxiv=\"http://arxiv.org/schemas/atom\">3 pages LaTeX</arxiv:comment>\\n    <link href=\"http://arxiv.org/abs/astro-ph/9904306v1\" rel=\"alternate\" type=\"text/html\"/>\\n    <link title=\"pdf\" href=\"http://arxiv.org/pdf/astro-ph/9904306v1\" rel=\"related\" type=\"application/pdf\"/>\\n    <arxiv:primary_category xmlns:arxiv=\"http://arxiv.org/schemas/atom\" term=\"astro-ph\" scheme=\"http://arxiv.org/schemas/atom\"/>\\n    <category term=\"astro-ph\" scheme=\"http://arxiv.org/schemas/atom\"/>\\n  </entry>\\n  <entry>\\n    <id>http://arxiv.org/abs/cond-mat/0310615v1</id>\\n    <updated>2003-10-27T08:59:02Z</updated>\\n    <published>2003-10-27T08:59:02Z</published>\\n    <title>Exact Electron-Pairing Ground States of Tight-Binding Models with Local\\n  Attractive Interactions</title>\\n    <summary>  We present a class of exactly solvable models of correlated electrons. The\\nmodels are defined in any dimension $d$ and consist of electron-hopping terms\\nand local attractive interactions between electrons. For each even number of\\nelectrons less than or equal to $1/(d+1)$-filling, we find the exact ground\\nstate in which all electrons form pairs of a certain type, and thus the models\\nexhibit an electron-pair condensation.\\n</summary>\\n    <author>\\n      <name>Akinori Tanaka</name>\\n    </author>\\n    <arxiv:doi xmlns:arxiv=\"http://arxiv.org/schemas/atom\">10.1143/JPSJ.73.1107</arxiv:doi>\\n    <link title=\"doi\" href=\"http://dx.doi.org/10.1143/JPSJ.73.1107\" rel=\"related\"/>\\n    <arxiv:comment xmlns:arxiv=\"http://arxiv.org/schemas/atom\">4 pages, 1 figure</arxiv:comment>\\n    <link href=\"http://arxiv.org/abs/cond-mat/0310615v1\" rel=\"alternate\" type=\"text/html\"/>\\n    <link title=\"pdf\" href=\"http://arxiv.org/pdf/cond-mat/0310615v1\" rel=\"related\" type=\"application/pdf\"/>\\n    <arxiv:primary_category xmlns:arxiv=\"http://arxiv.org/schemas/atom\" term=\"cond-mat.str-el\" scheme=\"http://arxiv.org/schemas/atom\"/>\\n    <category term=\"cond-mat.str-el\" scheme=\"http://arxiv.org/schemas/atom\"/>\\n  </entry>\\n  <entry>\\n    <id>http://arxiv.org/abs/cond-mat/0205001v1</id>\\n    <updated>2002-04-30T20:00:18Z</updated>\\n    <published>2002-04-30T20:00:18Z</published>\\n    <title>Electron-electron interactions in a weakly screened two-dimensional\\n  electron system</title>\\n    <summary>  We probe the strength of electron-electron interactions using\\nmagnetoconductivity measurements of two-dimensional non-degenerate electrons on\\nliquid helium at 1.22 K. Our data extend to electron densities that are two\\norders of magnitude smaller than previously reported. We span both the\\nindependent-electron regime where the data are qualitatively described by the\\nself-consistent Born approximation (SCBA), and the strongly-interacting\\nelectron regime. At finite fields we observe a crossover from SCBA to Drude\\ntheory as a function of electron density.\\n</summary>\\n    <author>\\n      <name>I. Karakurt</name>\\n    </author>\\n    <author>\\n      <name>A. J. Dahm</name>\\n    </author>\\n    <arxiv:comment xmlns:arxiv=\"http://arxiv.org/schemas/atom\">4 pages, 5 figures</arxiv:comment>\\n    <link href=\"http://arxiv.org/abs/cond-mat/0205001v1\" rel=\"alternate\" type=\"text/html\"/>\\n    <link title=\"pdf\" href=\"http://arxiv.org/pdf/cond-mat/0205001v1\" rel=\"related\" type=\"application/pdf\"/>\\n    <arxiv:primary_category xmlns:arxiv=\"http://arxiv.org/schemas/atom\" term=\"cond-mat.str-el\" scheme=\"http://arxiv.org/schemas/atom\"/>\\n    <category term=\"cond-mat.str-el\" scheme=\"http://arxiv.org/schemas/atom\"/>\\n  </entry>\\n  <entry>\\n    <id>http://arxiv.org/abs/1403.5117v2</id>\\n    <updated>2014-04-03T18:29:50Z</updated>\\n    <published>2014-03-20T12:47:57Z</published>\\n    <title>Free-electron properties of metals under ultrafast laser-induced\\n  electron-phonon nonequilibrium: A first-principles study</title>\\n    <summary>  The electronic behavior of various solid metals (Al, Ni, Cu, Au, Ti, and W)\\nunder ultrashort laser irradiation is investigated by means of density\\nfunctional theory. Successive stages of extreme nonequilibrium on picosecond\\ntime scale impact the excited material properties in terms of optical coupling\\nand transport characteristics. As these are generally modelled based on the\\nfree-electron classical theory, the free-electron number is a key parameter.\\nHowever, this parameter remains unclearly defined and dependencies on the\\nelectronic temperature are not considered. Here, from first-principles\\ncalculations, density of states are obtained with respect to electronic\\ntemperatures varying from 10^-2 to 10^5 K within a cold lattice. Based on the\\nconcept of localized or delocalized electronic states, temperature dependent\\nfree-electron numbers are evaluated for a series of metals covering a large\\nrange of electronic configurations. With the increase of the electronic\\ntemperature we observe strong adjustments of the electronic structures of\\ntransition metals. These are related to variations of electronic occupation in\\nlocalized d bands, via change in electronic screening and electron-ion\\neffective potential. The electronic temperature dependence of nonequilibrium\\ndensity of states has consequences on electronic chemical potentials,\\nfree-electron numbers, electronic heat capacities, and electronic pressures.\\nThus electronic thermodynamic properties are computed and discussed, serving as\\na base to derive energetic and transport properties allowing the description of\\nexcitation and relaxation phenomena caused by rapid laser action.\\n</summary>\\n    <author>\\n      <name>Emile B\\xc3\\xa9villon</name>\\n      <arxiv:affiliation xmlns:arxiv=\"http://arxiv.org/schemas/atom\">LHC</arxiv:affiliation>\\n    </author>\\n    <author>\\n      <name>Jean-Philippe Colombier</name>\\n      <arxiv:affiliation xmlns:arxiv=\"http://arxiv.org/schemas/atom\">LHC</arxiv:affiliation>\\n    </author>\\n    <author>\\n      <name>Vanina Recoules</name>\\n      <arxiv:affiliation xmlns:arxiv=\"http://arxiv.org/schemas/atom\">DPTA</arxiv:affiliation>\\n    </author>\\n    <author>\\n      <name>Razvan Stoian</name>\\n      <arxiv:affiliation xmlns:arxiv=\"http://arxiv.org/schemas/atom\">LHC</arxiv:affiliation>\\n    </author>\\n    <arxiv:doi xmlns:arxiv=\"http://arxiv.org/schemas/atom\">10.1103/PhysRevB.89.115117</arxiv:doi>\\n    <link title=\"doi\" href=\"http://dx.doi.org/10.1103/PhysRevB.89.115117\" rel=\"related\"/>\\n    <arxiv:journal_ref xmlns:arxiv=\"http://arxiv.org/schemas/atom\">Physical Review B (Condensed Matter) 89 (2014) 115117</arxiv:journal_ref>\\n    <link href=\"http://arxiv.org/abs/1403.5117v2\" rel=\"alternate\" type=\"text/html\"/>\\n    <link title=\"pdf\" href=\"http://arxiv.org/pdf/1403.5117v2\" rel=\"related\" type=\"application/pdf\"/>\\n    <arxiv:primary_category xmlns:arxiv=\"http://arxiv.org/schemas/atom\" term=\"cond-mat.mtrl-sci\" scheme=\"http://arxiv.org/schemas/atom\"/>\\n    <category term=\"cond-mat.mtrl-sci\" scheme=\"http://arxiv.org/schemas/atom\"/>\\n    <category term=\"cond-mat.str-el\" scheme=\"http://arxiv.org/schemas/atom\"/>\\n  </entry>\\n  <entry>\\n    <id>http://arxiv.org/abs/cond-mat/0002322v1</id>\\n    <updated>2000-02-21T11:53:06Z</updated>\\n    <published>2000-02-21T11:53:06Z</published>\\n    <title>First-principles calculations of hot-electron lifetimes in metals</title>\\n    <summary>  First-principles calculations of the inelastic lifetime of low-energy\\nelectrons in Al, Mg, Be, and Cu are reported. Quasiparticle damping rates are\\nevaluated from the knowledge of the electron self-energy, which we compute\\nwithin the GW approximation of many-body theory. Inelastic lifetimes are then\\nobtained along various directions of the electron wave vector, with full\\ninclusion of the band structure of the solid. Average lifetimes are also\\nreported, as a function of the electron energy. In Al and Mg, splitting of the\\nband structure over the Fermi level yields electron lifetimes that are smaller\\nthan those of electrons in a free-electron gas. Larger lifetimes are found in\\nBe, as a result of the characteristic dip that this material presents in the\\ndensity of states near the Fermi level. In Cu, a major contribution from $d$\\nelectrons participating in the screening of electron-electron interactions\\nyields electron lifetimes which are well above those of electrons in a\\nfree-electron gas with the electron density equal to that of valence ($4s^1$)\\nelectrons.\\n</summary>\\n    <author>\\n      <name>I. Campillo</name>\\n    </author>\\n    <author>\\n      <name>V. M. Silkin</name>\\n    </author>\\n    <author>\\n      <name>J. M. Pitarke</name>\\n    </author>\\n    <author>\\n      <name>E. V. Chulkov</name>\\n    </author>\\n    <author>\\n      <name>A. Rubio</name>\\n    </author>\\n    <author>\\n      <name>P. M. Echenique</name>\\n    </author>\\n    <arxiv:doi xmlns:arxiv=\"http://arxiv.org/schemas/atom\">10.1103/PhysRevB.61.13484</arxiv:doi>\\n    <link title=\"doi\" href=\"http://dx.doi.org/10.1103/PhysRevB.61.13484\" rel=\"related\"/>\\n    <arxiv:comment xmlns:arxiv=\"http://arxiv.org/schemas/atom\">8 pages, 10 figures, to appear in Phys. Rev. B</arxiv:comment>\\n    <arxiv:journal_ref xmlns:arxiv=\"http://arxiv.org/schemas/atom\">Phys. Rev. B 61, 13484 (2000)</arxiv:journal_ref>\\n    <link href=\"http://arxiv.org/abs/cond-mat/0002322v1\" rel=\"alternate\" type=\"text/html\"/>\\n    <link title=\"pdf\" href=\"http://arxiv.org/pdf/cond-mat/0002322v1\" rel=\"related\" type=\"application/pdf\"/>\\n    <arxiv:primary_category xmlns:arxiv=\"http://arxiv.org/schemas/atom\" term=\"cond-mat.mtrl-sci\" scheme=\"http://arxiv.org/schemas/atom\"/>\\n    <category term=\"cond-mat.mtrl-sci\" scheme=\"http://arxiv.org/schemas/atom\"/>\\n  </entry>\\n</feed>'"
      ]
     },
     "execution_count": 33,
     "metadata": {},
     "output_type": "execute_result"
    }
   ],
   "source": [
    "data"
   ]
  },
  {
   "cell_type": "code",
   "execution_count": 12,
   "metadata": {},
   "outputs": [],
   "source": [
    ")import xml.etree.ElementTree as ET"
   ]
  },
  {
   "cell_type": "code",
   "execution_count": 14,
   "metadata": {},
   "outputs": [],
   "source": [
    "root = ET.fromstring(data)"
   ]
  },
  {
   "cell_type": "code",
   "execution_count": 15,
   "metadata": {},
   "outputs": [
    {
     "data": {
      "text/plain": [
       "<Element '{http://www.w3.org/2005/Atom}feed' at 0x7fd004201368>"
      ]
     },
     "execution_count": 15,
     "metadata": {},
     "output_type": "execute_result"
    }
   ],
   "source": [
    "root."
   ]
  },
  {
   "cell_type": "code",
   "execution_count": 28,
   "metadata": {},
   "outputs": [
    {
     "name": "stdout",
     "output_type": "stream",
     "text": [
      "  {http://www.w3.org/2005/Atom}link\n",
      "  {http://www.w3.org/2005/Atom}title\n",
      "  {http://www.w3.org/2005/Atom}id\n",
      "  {http://www.w3.org/2005/Atom}updated\n",
      "  {http://a9.com/-/spec/opensearch/1.1/}totalResults\n",
      "  {http://a9.com/-/spec/opensearch/1.1/}startIndex\n",
      "  {http://a9.com/-/spec/opensearch/1.1/}itemsPerPage\n",
      "  {http://www.w3.org/2005/Atom}entry\n",
      "{http://www.w3.org/2005/Atom}id http://arxiv.org/abs/cond-mat/0102536v1\n",
      "{http://www.w3.org/2005/Atom}updated 2001-02-28T20:12:09Z\n",
      "{http://www.w3.org/2005/Atom}published 2001-02-28T20:12:09Z\n",
      "{http://www.w3.org/2005/Atom}title Impact of Electron-Electron Cusp on Configuration Interaction Energies\n",
      "{http://www.w3.org/2005/Atom}summary   The effect of the electron-electron cusp on the convergence of configuration\n",
      "interaction (CI) wave functions is examined. By analogy with the\n",
      "pseudopotential approach for electron-ion interactions, an effective\n",
      "electron-electron interaction is developed which closely reproduces the\n",
      "scattering of the Coulomb interaction but is smooth and finite at zero\n",
      "electron-electron separation. The exact many-electron wave function for this\n",
      "smooth effective interaction has no cusp at zero electron-electron separation.\n",
      "We perform CI and quantum Monte Carlo calculations for He and Be atoms, both\n",
      "with the Coulomb electron-electron interaction and with the smooth effective\n",
      "electron-electron interaction. We find that convergence of the CI expansion of\n",
      "the wave function for the smooth electron-electron interaction is not\n",
      "significantly improved compared with that for the divergent Coulomb interaction\n",
      "for energy differences on the order of 1 mHartree. This shows that, contrary to\n",
      "popular belief, description of the electron-electron cusp is not a limiting\n",
      "factor, to within chemical accuracy, for CI calculations.\n",
      "\n",
      "{http://www.w3.org/2005/Atom}author \n",
      "      \n",
      "{http://www.w3.org/2005/Atom}author \n",
      "      \n",
      "{http://www.w3.org/2005/Atom}author \n",
      "      \n",
      "{http://www.w3.org/2005/Atom}author \n",
      "      \n",
      "{http://www.w3.org/2005/Atom}author \n",
      "      \n",
      "{http://arxiv.org/schemas/atom}doi 10.1063/1.1383585\n",
      "{http://www.w3.org/2005/Atom}link None\n",
      "{http://arxiv.org/schemas/atom}comment 11 pages, 6 figures, 3 tables, LaTeX209, submitted to The Journal of\n",
      "  Chemical Physics\n",
      "{http://arxiv.org/schemas/atom}journal_ref J. Chem. Phys. 115, 1626 (2001)\n",
      "{http://www.w3.org/2005/Atom}link None\n",
      "{http://www.w3.org/2005/Atom}link None\n",
      "{http://arxiv.org/schemas/atom}primary_category None\n",
      "{http://www.w3.org/2005/Atom}category None\n"
     ]
    }
   ],
   "source": [
    "for child in root:\n",
    "    print(' ',child.tag)\n",
    "    for c in child:\n",
    "        print(c.tag, c.text)"
   ]
  },
  {
   "cell_type": "markdown",
   "metadata": {},
   "source": [
    "# Arxiv Scraper Library\n",
    "\n",
    "[Arxiv Scraper](https://github.com/mahdisadjadi/arxivscraper)"
   ]
  },
  {
   "cell_type": "code",
   "execution_count": 3,
   "metadata": {},
   "outputs": [
    {
     "ename": "ModuleNotFoundError",
     "evalue": "No module named 'arxivscraper'",
     "output_type": "error",
     "traceback": [
      "\u001b[0;31m---------------------------------------------------------------------------\u001b[0m",
      "\u001b[0;31mModuleNotFoundError\u001b[0m                       Traceback (most recent call last)",
      "\u001b[0;32m<ipython-input-3-0ff4663e07c0>\u001b[0m in \u001b[0;36m<module>\u001b[0;34m\u001b[0m\n\u001b[0;32m----> 1\u001b[0;31m \u001b[0;32mimport\u001b[0m \u001b[0marxivscraper\u001b[0m\u001b[0;34m\u001b[0m\u001b[0;34m\u001b[0m\u001b[0m\n\u001b[0m\u001b[1;32m      2\u001b[0m \u001b[0mscraper\u001b[0m \u001b[0;34m=\u001b[0m \u001b[0marxivscraper\u001b[0m\u001b[0;34m.\u001b[0m\u001b[0mScraper\u001b[0m\u001b[0;34m(\u001b[0m\u001b[0mcategory\u001b[0m\u001b[0;34m=\u001b[0m\u001b[0;34m'physics:cond-mat'\u001b[0m\u001b[0;34m,\u001b[0m \u001b[0mdate_from\u001b[0m\u001b[0;34m=\u001b[0m\u001b[0;34m'2017-05-27'\u001b[0m\u001b[0;34m,\u001b[0m\u001b[0mdate_until\u001b[0m\u001b[0;34m=\u001b[0m\u001b[0;34m'2017-06-07'\u001b[0m\u001b[0;34m)\u001b[0m\u001b[0;34m\u001b[0m\u001b[0;34m\u001b[0m\u001b[0m\n",
      "\u001b[0;31mModuleNotFoundError\u001b[0m: No module named 'arxivscraper'"
     ]
    }
   ],
   "source": [
    "import arxivscraper\n",
    "scraper = arxivscraper.Scraper(category='physics:cond-mat', date_from='2017-05-27',date_until='2017-06-07')"
   ]
  },
  {
   "cell_type": "code",
   "execution_count": 5,
   "metadata": {},
   "outputs": [],
   "source": [
    "from arxivscraper import *"
   ]
  },
  {
   "cell_type": "code",
   "execution_count": 9,
   "metadata": {},
   "outputs": [],
   "source": [
    "scraper = Scraper(category='physics:cond-mat', date_from='2017-05-27',date_until='2017-09-07', t=100)"
   ]
  },
  {
   "cell_type": "code",
   "execution_count": 10,
   "metadata": {},
   "outputs": [
    {
     "name": "stdout",
     "output_type": "stream",
     "text": [
      "http://export.arxiv.org/oai2?verb=ListRecords&from=2017-05-27&until=2017-09-07&metadataPrefix=arXiv&set=physics:cond-mat\n",
      "fetching up to  1000 records...\n",
      "fetching up to  2000 records...\n",
      "Got 503. Retrying after 30 seconds.\n",
      "fetching up to  2000 records...\n",
      "fetching up to  3000 records...\n",
      "Got 503. Retrying after 30 seconds.\n",
      "fetching up to  3000 records...\n",
      "fetching up to  4000 records...\n",
      "Got 503. Retrying after 30 seconds.\n",
      "fetching up to  4000 records...\n",
      "fetching up to  5000 records...\n",
      "Got 503. Retrying after 30 seconds.\n",
      "fetching up to  5000 records...\n",
      "fetching up to  6000 records...\n",
      "Got 503. Retrying after 30 seconds.\n",
      "fetching up to  6000 records...\n",
      "fetching is completed in 225.6 seconds.\n",
      "Total number of records 5142\n"
     ]
    }
   ],
   "source": [
    "output = scraper.scrape()"
   ]
  },
  {
   "cell_type": "code",
   "execution_count": 12,
   "metadata": {},
   "outputs": [],
   "source": [
    "import pandas as pd\n",
    "cols = ('id', 'title', 'categories', 'abstract', 'doi', 'created', 'updated', 'authors')\n",
    "df = pd.DataFrame(output,columns=cols)"
   ]
  },
  {
   "cell_type": "code",
   "execution_count": 13,
   "metadata": {},
   "outputs": [
    {
     "data": {
      "text/html": [
       "<div>\n",
       "<style scoped>\n",
       "    .dataframe tbody tr th:only-of-type {\n",
       "        vertical-align: middle;\n",
       "    }\n",
       "\n",
       "    .dataframe tbody tr th {\n",
       "        vertical-align: top;\n",
       "    }\n",
       "\n",
       "    .dataframe thead th {\n",
       "        text-align: right;\n",
       "    }\n",
       "</style>\n",
       "<table border=\"1\" class=\"dataframe\">\n",
       "  <thead>\n",
       "    <tr style=\"text-align: right;\">\n",
       "      <th></th>\n",
       "      <th>id</th>\n",
       "      <th>title</th>\n",
       "      <th>categories</th>\n",
       "      <th>abstract</th>\n",
       "      <th>doi</th>\n",
       "      <th>created</th>\n",
       "      <th>updated</th>\n",
       "      <th>authors</th>\n",
       "    </tr>\n",
       "  </thead>\n",
       "  <tbody>\n",
       "    <tr>\n",
       "      <th>0</th>\n",
       "      <td>0707.0658</td>\n",
       "      <td>quantum phase transitions on percolating lattices</td>\n",
       "      <td>cond-mat.stat-mech cond-mat.str-el</td>\n",
       "      <td>when a quantum many-particle system exists on ...</td>\n",
       "      <td>10.1142/9789812779885_0030</td>\n",
       "      <td>2007-07-04</td>\n",
       "      <td></td>\n",
       "      <td>[vojta, hoyos]</td>\n",
       "    </tr>\n",
       "    <tr>\n",
       "      <th>1</th>\n",
       "      <td>0707.4099</td>\n",
       "      <td>microscopic studies of solid 4he with path int...</td>\n",
       "      <td>cond-mat.other</td>\n",
       "      <td>we have investigated the ground state properti...</td>\n",
       "      <td>10.1142/9789812779885_0039</td>\n",
       "      <td>2007-07-27</td>\n",
       "      <td></td>\n",
       "      <td>[rossi, rota, vitali, galli, reatto]</td>\n",
       "    </tr>\n",
       "    <tr>\n",
       "      <th>2</th>\n",
       "      <td>0707.4630</td>\n",
       "      <td>ground state properties of a homogeneous 2d sy...</td>\n",
       "      <td>cond-mat.other</td>\n",
       "      <td>the ground-state phase properties of a two-dim...</td>\n",
       "      <td>10.1142/9789812779885_0031</td>\n",
       "      <td>2007-07-31</td>\n",
       "      <td></td>\n",
       "      <td>[astrakharchik, boronat, casulleras, kurbakov,...</td>\n",
       "    </tr>\n",
       "    <tr>\n",
       "      <th>3</th>\n",
       "      <td>0710.2831</td>\n",
       "      <td>quantum dynamics in phase space: from coherent...</td>\n",
       "      <td>cond-mat.other cond-mat.stat-mech</td>\n",
       "      <td>we give an outlook on the future of coherence ...</td>\n",
       "      <td>10.1080/09500340701397560</td>\n",
       "      <td>2007-10-15</td>\n",
       "      <td>2007-10-17</td>\n",
       "      <td>[drummond, deuar, vaughan, corney]</td>\n",
       "    </tr>\n",
       "    <tr>\n",
       "      <th>4</th>\n",
       "      <td>0710.5296</td>\n",
       "      <td>non-fermi-liquid behavior from the fermi-liqui...</td>\n",
       "      <td>cond-mat.str-el</td>\n",
       "      <td>non-fermi liquid behavior of strongly correlat...</td>\n",
       "      <td>10.1142/9789812709592_0004</td>\n",
       "      <td>2007-10-28</td>\n",
       "      <td>2008-03-27</td>\n",
       "      <td>[khodel, clark, li, yakovenko, zverev]</td>\n",
       "    </tr>\n",
       "  </tbody>\n",
       "</table>\n",
       "</div>"
      ],
      "text/plain": [
       "          id                                              title  \\\n",
       "0  0707.0658  quantum phase transitions on percolating lattices   \n",
       "1  0707.4099  microscopic studies of solid 4he with path int...   \n",
       "2  0707.4630  ground state properties of a homogeneous 2d sy...   \n",
       "3  0710.2831  quantum dynamics in phase space: from coherent...   \n",
       "4  0710.5296  non-fermi-liquid behavior from the fermi-liqui...   \n",
       "\n",
       "                           categories  \\\n",
       "0  cond-mat.stat-mech cond-mat.str-el   \n",
       "1                      cond-mat.other   \n",
       "2                      cond-mat.other   \n",
       "3   cond-mat.other cond-mat.stat-mech   \n",
       "4                     cond-mat.str-el   \n",
       "\n",
       "                                            abstract  \\\n",
       "0  when a quantum many-particle system exists on ...   \n",
       "1  we have investigated the ground state properti...   \n",
       "2  the ground-state phase properties of a two-dim...   \n",
       "3  we give an outlook on the future of coherence ...   \n",
       "4  non-fermi liquid behavior of strongly correlat...   \n",
       "\n",
       "                          doi     created     updated  \\\n",
       "0  10.1142/9789812779885_0030  2007-07-04               \n",
       "1  10.1142/9789812779885_0039  2007-07-27               \n",
       "2  10.1142/9789812779885_0031  2007-07-31               \n",
       "3   10.1080/09500340701397560  2007-10-15  2007-10-17   \n",
       "4  10.1142/9789812709592_0004  2007-10-28  2008-03-27   \n",
       "\n",
       "                                             authors  \n",
       "0                                     [vojta, hoyos]  \n",
       "1               [rossi, rota, vitali, galli, reatto]  \n",
       "2  [astrakharchik, boronat, casulleras, kurbakov,...  \n",
       "3                 [drummond, deuar, vaughan, corney]  \n",
       "4             [khodel, clark, li, yakovenko, zverev]  "
      ]
     },
     "execution_count": 13,
     "metadata": {},
     "output_type": "execute_result"
    }
   ],
   "source": [
    "df.head()"
   ]
  },
  {
   "cell_type": "code",
   "execution_count": null,
   "metadata": {},
   "outputs": [],
   "source": []
  }
 ],
 "metadata": {
  "kernelspec": {
   "display_name": "Python 3",
   "language": "python",
   "name": "python3"
  }
 },
 "nbformat": 4,
 "nbformat_minor": 2
}
