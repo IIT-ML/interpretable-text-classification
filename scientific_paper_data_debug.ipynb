{
 "cells": [
  {
   "cell_type": "markdown",
   "metadata": {},
   "source": [
    "## Debug for Scientific data\n",
    "[PeerRead](https://github.com/allenai/PeerRead) (accept/reject)\n",
    "\n",
    "**Input** : Document string <br>\n",
    "**Label** : {0:'reject', 1:'accept'}"
   ]
  },
  {
   "cell_type": "code",
   "execution_count": 1,
   "metadata": {},
   "outputs": [],
   "source": [
    "import os\n",
    "import logging\n",
    "import numpy as np\n",
    "import glob\n",
    "from bs4 import BeautifulSoup\n",
    "from nltk.tokenize import word_tokenize\n",
    "from utils.dataset_helper import load_peer_read\n",
    "\n",
    "os.environ['TZ'] = 'America/Chicago'\n",
    "logger = logging.getLogger()\n",
    "logger.setLevel(logging.INFO)"
   ]
  },
  {
   "cell_type": "code",
   "execution_count": 2,
   "metadata": {},
   "outputs": [
    {
     "name": "stdout",
     "output_type": "stream",
     "text": [
      "Help on function load_peer_read in module utils.dataset_helper:\n",
      "\n",
      "load_peer_read(abs_path, tokenize=True, lower=True, shuffle=True, random_state=42)\n",
      "    Load data for peerRead\n",
      "    \n",
      "    # Arguments\n",
      "        tokenize: Boolean\n",
      "        lower: Boolean\n",
      "        shuffle: Boolean\n",
      "        random_state: Integer\n",
      "    # Returns\n",
      "        X_train, X_test, y_train, y_test\n",
      "\n"
     ]
    }
   ],
   "source": [
    "help(load_peer_read)"
   ]
  },
  {
   "cell_type": "code",
   "execution_count": null,
   "metadata": {},
   "outputs": [
    {
     "name": "stderr",
     "output_type": "stream",
     "text": [
      "2019-06-19 13:28:17,506 INFO Loading start...\n",
      "2019-06-19 13:28:26,512 INFO Training data loaded.\n",
      "2019-06-19 13:28:27,089 INFO Testing data loaded.\n",
      "2019-06-19 13:28:27,096 INFO Shuffled.\n",
      "2019-06-19 13:28:29,593 INFO Lowered.\n"
     ]
    }
   ],
   "source": [
    "PEER_READ_PATH = '/home/anneke/Documents/anneke-precision-github/ann-mitchell-text-classification/dataset/PeerRead/'\n",
    "x_train, x_test, y_train, y_test = load_peer_read(PEER_READ_PATH,\n",
    "                                                  shuffle = True, \n",
    "                                                  lower = True, \n",
    "                                                  tokenize = True)"
   ]
  },
  {
   "cell_type": "code",
   "execution_count": null,
   "metadata": {},
   "outputs": [],
   "source": [
    "print('Total training : {}'.format(len(x_train)))\n",
    "print('Total testing : {}'.format(len(x_test)))"
   ]
  },
  {
   "cell_type": "markdown",
   "metadata": {},
   "source": [
    "## Logistic Regression\n"
   ]
  },
  {
   "cell_type": "code",
   "execution_count": null,
   "metadata": {},
   "outputs": [],
   "source": [
    "from utils import utils\n",
    "import sklearn"
   ]
  },
  {
   "cell_type": "code",
   "execution_count": null,
   "metadata": {},
   "outputs": [],
   "source": [
    "X_train, X_test, cv = utils.vectorize_keywords_docs(x_train, x_test)"
   ]
  },
  {
   "cell_type": "code",
   "execution_count": null,
   "metadata": {},
   "outputs": [],
   "source": [
    "X_train['docs'].shape, X_test['docs'].shape"
   ]
  },
  {
   "cell_type": "code",
   "execution_count": null,
   "metadata": {},
   "outputs": [],
   "source": [
    "clf = sklearn.linear_model.LogisticRegression()\n",
    "clf.fit(X_train['docs'], y_train)"
   ]
  },
  {
   "cell_type": "code",
   "execution_count": null,
   "metadata": {},
   "outputs": [],
   "source": [
    "weight = clf.coef_[0]\n",
    "words = cv.get_feature_names()"
   ]
  },
  {
   "cell_type": "markdown",
   "metadata": {},
   "source": [
    "### Print top 100"
   ]
  },
  {
   "cell_type": "code",
   "execution_count": null,
   "metadata": {},
   "outputs": [],
   "source": [
    "indices = np.argsort(np.absolute(weight))[::-1]\n",
    "\n",
    "for weight, words in zip(weight[indices], words[indices])[:100]:\n",
    "    print('{} : {}'.format(words, weight))"
   ]
  },
  {
   "cell_type": "code",
   "execution_count": null,
   "metadata": {},
   "outputs": [],
   "source": []
  }
 ],
 "metadata": {
  "kernelspec": {
   "display_name": "Python 3",
   "language": "python",
   "name": "python3"
  },
  "language_info": {
   "codemirror_mode": {
    "name": "ipython",
    "version": 3
   },
   "file_extension": ".py",
   "mimetype": "text/x-python",
   "name": "python",
   "nbconvert_exporter": "python",
   "pygments_lexer": "ipython3",
   "version": "3.6.7"
  }
 },
 "nbformat": 4,
 "nbformat_minor": 2
}
