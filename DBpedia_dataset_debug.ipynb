{
 "cells": [
  {
   "cell_type": "code",
   "execution_count": 2,
   "metadata": {},
   "outputs": [],
   "source": [
    "import os\n",
    "import logging\n",
    "import numpy as np\n",
    "import glob\n",
    "from bs4 import BeautifulSoup\n",
    "from nltk.tokenize import word_tokenize\n",
    "from utils.dataset_helper import load_ag_news\n",
    "\n",
    "os.environ['TZ'] = 'America/Chicago'\n",
    "logger = logging.getLogger()\n",
    "logger.setLevel(logging.INFO)"
   ]
  },
  {
   "cell_type": "code",
   "execution_count": 3,
   "metadata": {},
   "outputs": [],
   "source": [
    "PATH = './dataset/dbpedia_csv/'"
   ]
  },
  {
   "cell_type": "code",
   "execution_count": 4,
   "metadata": {},
   "outputs": [
    {
     "name": "stderr",
     "output_type": "stream",
     "text": [
      "2019-06-23 16:16:27,472 INFO Shuffled.\n",
      "2019-06-23 16:16:28,383 INFO Lowered.\n",
      "2019-06-23 16:22:44,912 INFO Tokenized.\n"
     ]
    }
   ],
   "source": [
    "#dbpedia and ag_news have the same format\n",
    "x_train, x_test, y_train, y_test = load_ag_news(PATH,\n",
    "                                                  shuffle = True, \n",
    "                                                  lower = True, \n",
    "                                                  tokenize = True)"
   ]
  },
  {
   "cell_type": "code",
   "execution_count": 5,
   "metadata": {},
   "outputs": [
    {
     "name": "stdout",
     "output_type": "stream",
     "text": [
      "Total training : 560000\n",
      "Total testing : 70000\n"
     ]
    }
   ],
   "source": [
    "print('Total training : {}'.format(len(x_train)))\n",
    "print('Total testing : {}'.format(len(x_test)))"
   ]
  },
  {
   "cell_type": "code",
   "execution_count": 8,
   "metadata": {},
   "outputs": [
    {
     "data": {
      "text/plain": [
       "\"s-motor was the class designation given by the new york central to its alco-ge built s-1 s-2 s-2a and s-3 electric locomotives . the s-motors hold the distinction of being the world 's first mass-produced main line electric locomotives with the prototype # 6000 being constructed in 1904. the s-motors would serve alone until the more powerful t-motors began to arrive in 1913 eventually displacing them from main line passenger duties .\""
      ]
     },
     "execution_count": 8,
     "metadata": {},
     "output_type": "execute_result"
    }
   ],
   "source": [
    "' '.join(x_train[1])"
   ]
  },
  {
   "cell_type": "code",
   "execution_count": 10,
   "metadata": {},
   "outputs": [
    {
     "data": {
      "text/plain": [
       "array([ 1,  2,  3,  4,  5,  6,  7,  8,  9, 10, 11, 12, 13, 14])"
      ]
     },
     "execution_count": 10,
     "metadata": {},
     "output_type": "execute_result"
    }
   ],
   "source": [
    "np.unique(y_train)"
   ]
  },
  {
   "cell_type": "markdown",
   "metadata": {},
   "source": [
    "## Class, headline, content\n",
    "Click to go to each Logistic Regression result\n",
    "\n",
    "1 [Company](#company-1) <br>\n",
    "2 [EducationalInstitution](#edu-2) <br>\n",
    "3 [Artist](#artist-3) <br>\n",
    "4 [Athlete](#athelete-4) <br>\n",
    "5 OfficeHolder <br>\n",
    "6 MeanOfTransportation <br>\n",
    "7 Building <br>\n",
    "8 NaturalPlace <br>\n",
    "9 Village <br>\n",
    "10 Animal <br>\n",
    "11 Plant <br>\n",
    "12 Album <br>\n",
    "13 Film <br>\n",
    "14 WrittenWork <br>\n",
    "<br> <br>\n",
    "The load function load label as {1,2,3,4.... 14}. <br>\n",
    "We need to use one-hot vector"
   ]
  },
  {
   "cell_type": "code",
   "execution_count": 14,
   "metadata": {},
   "outputs": [],
   "source": [
    "y_1_company = [1 if label == 1 else 0 for label in y_train]\n",
    "y_2_edu = [1 if label == 2 else 0 for label in y_train]\n",
    "y_3_artist = [1 if label == 3 else 0 for label in y_train]\n",
    "y_4_athlete = [1 if label == 4 else 0 for label in y_train]"
   ]
  },
  {
   "cell_type": "code",
   "execution_count": 15,
   "metadata": {},
   "outputs": [],
   "source": [
    "from utils import utils\n",
    "import sklearn"
   ]
  },
  {
   "cell_type": "code",
   "execution_count": 16,
   "metadata": {},
   "outputs": [],
   "source": [
    "X_train, X_test, cv = utils.vectorize_keywords_docs(x_train, x_test, return_cv=True)"
   ]
  },
  {
   "cell_type": "code",
   "execution_count": 17,
   "metadata": {},
   "outputs": [
    {
     "data": {
      "text/plain": [
       "((560000, 12299), (70000, 12299))"
      ]
     },
     "execution_count": 17,
     "metadata": {},
     "output_type": "execute_result"
    }
   ],
   "source": [
    "X_train['docs'].shape, X_test['docs'].shape"
   ]
  },
  {
   "cell_type": "code",
   "execution_count": 18,
   "metadata": {},
   "outputs": [],
   "source": [
    "del x_train, x_test"
   ]
  },
  {
   "cell_type": "markdown",
   "metadata": {},
   "source": [
    "<a id='company-1'></a>\n",
    "# 1 Company vs rest\n"
   ]
  },
  {
   "cell_type": "code",
   "execution_count": 20,
   "metadata": {},
   "outputs": [
    {
     "name": "stderr",
     "output_type": "stream",
     "text": [
      "/usr/local/lib/python3.6/dist-packages/sklearn/linear_model/logistic.py:432: FutureWarning: Default solver will be changed to 'lbfgs' in 0.22. Specify a solver to silence this warning.\n",
      "  FutureWarning)\n"
     ]
    }
   ],
   "source": [
    "clf = sklearn.linear_model.LogisticRegression()\n",
    "clf.fit(X_train['docs'], y_1_company)\n",
    "\n",
    "weight = clf.coef_[0]\n",
    "words = cv.get_feature_names()\n",
    "\n",
    "indices = np.argsort(weight)[::-1]"
   ]
  },
  {
   "cell_type": "code",
   "execution_count": 22,
   "metadata": {},
   "outputs": [
    {
     "name": "stdout",
     "output_type": "stream",
     "text": [
      "---------- 100 KEYWORD ASSOCIATED WITH [COMPANY] CATEGORY\n",
      "winery \t\t 4.598\n",
      "airline \t\t 4.23\n",
      "brewery \t\t 3.878\n",
      "manufacturer \t\t 3.257\n",
      "label \t\t 3.186\n",
      "publisher \t\t 2.897\n",
      "retailer \t\t 2.839\n",
      "company \t\t 2.834\n",
      "llp \t\t 2.757\n",
      "brand \t\t 2.75\n",
      "operator \t\t 2.734\n",
      "manufactures \t\t 2.596\n",
      "distributor \t\t 2.567\n",
      "firm \t\t 2.566\n",
      "developer \t\t 2.467\n",
      "device \t\t 2.456\n",
      "bank \t\t 2.409\n",
      "soap \t\t 2.39\n",
      "transit \t\t 2.356\n",
      "supplier \t\t 2.354\n",
      "founded \t\t 2.352\n",
      "chain \t\t 2.333\n",
      "auction \t\t 2.183\n",
      "headquartered \t\t 2.118\n",
      "banco \t\t 2.113\n",
      "foundry \t\t 2.088\n",
      "imprint \t\t 2.078\n",
      "press \t\t 2.07\n",
      "provider \t\t 2.052\n",
      "mma \t\t 2.044\n",
      "bikes \t\t 1.926\n",
      "beers \t\t 1.92\n",
      "store \t\t 1.917\n",
      "gaisha \t\t 1.897\n",
      "agency \t\t 1.89\n",
      "société \t\t 1.884\n",
      "builder \t\t 1.852\n",
      "publish \t\t 1.852\n",
      "shipyard \t\t 1.826\n",
      "users \t\t 1.814\n",
      "publishers \t\t 1.805\n",
      "appliances \t\t 1.797\n",
      "lindsay \t\t 1.785\n",
      "bus \t\t 1.783\n",
      "shipbuilders \t\t 1.782\n",
      "produces \t\t 1.735\n",
      "clothing \t\t 1.694\n",
      "shipyards \t\t 1.689\n",
      "pulp \t\t 1.688\n",
      "enterprise \t\t 1.669\n",
      "regulator \t\t 1.667\n",
      "patented \t\t 1.663\n",
      "airlines \t\t 1.663\n",
      "routes \t\t 1.66\n",
      "vineyard \t\t 1.656\n",
      "formed \t\t 1.65\n",
      "certification \t\t 1.648\n",
      "conglomerate \t\t 1.624\n",
      "alcoholic \t\t 1.622\n",
      "subsidiary \t\t 1.619\n",
      "facebook \t\t 1.616\n",
      "record \t\t 1.609\n",
      "wine \t\t 1.607\n",
      "distributes \t\t 1.606\n",
      "signal \t\t 1.602\n",
      "titles \t\t 1.585\n",
      "remodeled \t\t 1.573\n",
      "postal \t\t 1.568\n",
      "tool \t\t 1.566\n",
      "ny \t\t 1.546\n",
      "gentlemen \t\t 1.539\n",
      "bordeaux \t\t 1.531\n",
      "keyboard \t\t 1.527\n",
      "corporation \t\t 1.52\n",
      "nationwide \t\t 1.519\n",
      "interactive \t\t 1.518\n",
      "arsenal \t\t 1.518\n",
      "builds \t\t 1.517\n",
      "chosen \t\t 1.517\n",
      "comprised \t\t 1.509\n",
      "contractor \t\t 1.503\n",
      "networking \t\t 1.499\n",
      "leasing \t\t 1.494\n",
      "established \t\t 1.487\n",
      "invented \t\t 1.486\n",
      "cobb \t\t 1.477\n",
      "valve \t\t 1.472\n",
      "voluntary \t\t 1.472\n",
      "farms \t\t 1.469\n",
      "jacksonville \t\t 1.468\n",
      "bafta \t\t 1.467\n",
      "operates \t\t 1.461\n",
      "2800 \t\t 1.451\n",
      "guitars \t\t 1.441\n",
      "distributing \t\t 1.441\n",
      "firearms \t\t 1.439\n",
      "cooperative \t\t 1.438\n",
      "publishing \t\t 1.437\n",
      "varying \t\t 1.43\n",
      "oriental \t\t 1.429\n"
     ]
    }
   ],
   "source": [
    "print('-'*10,'100 KEYWORD ASSOCIATED WITH [COMPANY] CATEGORY')\n",
    "for i in indices[:100]:\n",
    "    print('{} \\t\\t {}'.format(words[i], np.around(weight[i], 3)))"
   ]
  },
  {
   "cell_type": "markdown",
   "metadata": {},
   "source": [
    "<a id='edu-2'></a>\n",
    "# 2 Educational Institution VS Rest"
   ]
  },
  {
   "cell_type": "code",
   "execution_count": 23,
   "metadata": {},
   "outputs": [],
   "source": [
    "clf = sklearn.linear_model.LogisticRegression()\n",
    "clf.fit(X_train['docs'], y_2_edu)\n",
    "\n",
    "weight = clf.coef_[0]\n",
    "words = cv.get_feature_names()\n",
    "\n",
    "indices = np.argsort(weight)[::-1]"
   ]
  },
  {
   "cell_type": "code",
   "execution_count": 24,
   "metadata": {},
   "outputs": [
    {
     "name": "stdout",
     "output_type": "stream",
     "text": [
      "---------- 100 KEYWORD ASSOCIATED WITH [EDUCATIONAL INSTITUTION ] CATEGORY\n",
      "school \t\t 4.499\n",
      "college \t\t 3.285\n",
      "university \t\t 3.195\n",
      "universidad \t\t 2.994\n",
      "coeducational \t\t 2.774\n",
      "pupils \t\t 2.74\n",
      "dàxué \t\t 2.572\n",
      "daigaku \t\t 2.561\n",
      "seminary \t\t 2.468\n",
      "gymnasium \t\t 2.376\n",
      "academy \t\t 2.308\n",
      "vidyalaya \t\t 2.24\n",
      "faculties \t\t 2.227\n",
      "aged \t\t 2.189\n",
      "colleges \t\t 2.156\n",
      "unified \t\t 2.147\n",
      "universidade \t\t 2.076\n",
      "polytechnic \t\t 2.032\n",
      "campuses \t\t 2.021\n",
      "therapy \t\t 1.974\n",
      "université \t\t 1.916\n",
      "universität \t\t 1.913\n",
      "liberal \t\t 1.904\n",
      "institute \t\t 1.897\n",
      "école \t\t 1.87\n",
      "curriculum \t\t 1.826\n",
      "public \t\t 1.808\n",
      "университет \t\t 1.751\n",
      "secondary \t\t 1.75\n",
      "degrees \t\t 1.747\n",
      "conservatory \t\t 1.735\n",
      "missionary \t\t 1.724\n",
      "narayan \t\t 1.708\n",
      "khyber \t\t 1.685\n",
      "honourable \t\t 1.634\n",
      "sekolah \t\t 1.613\n",
      "constituent \t\t 1.611\n",
      "boys \t\t 1.596\n",
      "headteacher \t\t 1.582\n",
      "private \t\t 1.579\n",
      "schools \t\t 1.577\n",
      "nigeria \t\t 1.572\n",
      "syria \t\t 1.572\n",
      "collège \t\t 1.526\n",
      "qualification \t\t 1.519\n",
      "established \t\t 1.514\n",
      "high \t\t 1.511\n",
      "educates \t\t 1.482\n",
      "sailors \t\t 1.474\n",
      "tian \t\t 1.47\n",
      "inception \t\t 1.416\n",
      "educational \t\t 1.408\n",
      "institutes \t\t 1.398\n",
      "windsor \t\t 1.397\n",
      "ofsted \t\t 1.397\n",
      "discipline \t\t 1.395\n",
      "deemed \t\t 1.394\n",
      "prayer \t\t 1.381\n",
      "peoples \t\t 1.379\n",
      "outskirts \t\t 1.375\n",
      "qualified \t\t 1.356\n",
      "theological \t\t 1.355\n",
      "popularly \t\t 1.354\n",
      "mascot \t\t 1.354\n",
      "bounded \t\t 1.351\n",
      "ages \t\t 1.35\n",
      "premises \t\t 1.347\n",
      "occupy \t\t 1.341\n",
      "governed \t\t 1.34\n",
      "جامعة \t\t 1.336\n",
      "practices \t\t 1.334\n",
      "decree \t\t 1.328\n",
      "clifton \t\t 1.327\n",
      "transfer \t\t 1.316\n",
      "parent \t\t 1.311\n",
      "umbrella \t\t 1.31\n",
      "walled \t\t 1.297\n",
      "benedict \t\t 1.293\n",
      "surgical \t\t 1.293\n",
      "contact \t\t 1.292\n",
      "founded \t\t 1.289\n",
      "য \t\t 1.273\n",
      "printing \t\t 1.269\n",
      "comprehensive \t\t 1.26\n",
      "boarding \t\t 1.253\n",
      "ল \t\t 1.251\n",
      "announced \t\t 1.248\n",
      "universities \t\t 1.247\n",
      "colors \t\t 1.246\n",
      "thousand \t\t 1.244\n",
      "traditions \t\t 1.241\n",
      "education \t\t 1.24\n",
      "analyst \t\t 1.238\n",
      "context \t\t 1.237\n",
      "professionals \t\t 1.236\n",
      "recognition \t\t 1.231\n",
      "enrollment \t\t 1.231\n",
      "presidents \t\t 1.23\n",
      "further \t\t 1.23\n",
      "creative \t\t 1.227\n"
     ]
    }
   ],
   "source": [
    "print('-'*10,'100 KEYWORD ASSOCIATED WITH [EDUCATIONAL INSTITUTION ] CATEGORY')\n",
    "for i in indices[:100]:\n",
    "    print('{} \\t\\t {}'.format(words[i], np.around(weight[i], 3)))"
   ]
  },
  {
   "cell_type": "markdown",
   "metadata": {},
   "source": [
    "<a id='artist-3'></a>\n",
    "# 3 Artist VS Rest"
   ]
  },
  {
   "cell_type": "code",
   "execution_count": 25,
   "metadata": {},
   "outputs": [
    {
     "name": "stderr",
     "output_type": "stream",
     "text": [
      "/usr/local/lib/python3.6/dist-packages/sklearn/linear_model/logistic.py:432: FutureWarning: Default solver will be changed to 'lbfgs' in 0.22. Specify a solver to silence this warning.\n",
      "  FutureWarning)\n"
     ]
    }
   ],
   "source": [
    "clf = sklearn.linear_model.LogisticRegression()\n",
    "clf.fit(X_train['docs'], y_3_artist)\n",
    "\n",
    "weight = clf.coef_[0]\n",
    "words = cv.get_feature_names()\n",
    "\n",
    "indices = np.argsort(weight)[::-1]"
   ]
  },
  {
   "cell_type": "code",
   "execution_count": 26,
   "metadata": {},
   "outputs": [
    {
     "name": "stdout",
     "output_type": "stream",
     "text": [
      "---------- 100 KEYWORD ASSOCIATED WITH [ARTIST] CATEGORY\n",
      "painter \t\t 4.638\n",
      "photographer \t\t 3.631\n",
      "sculptor \t\t 3.409\n",
      "rapper \t\t 3.338\n",
      "novelist \t\t 3.284\n",
      "singer/songwriter \t\t 3.22\n",
      "writer \t\t 3.168\n",
      "singer \t\t 3.059\n",
      "engraver \t\t 2.92\n",
      "composer \t\t 2.876\n",
      "author \t\t 2.871\n",
      "poet \t\t 2.868\n",
      "cartoonist \t\t 2.867\n",
      "musician \t\t 2.866\n",
      "actress \t\t 2.825\n",
      "designer \t\t 2.806\n",
      "pornographic \t\t 2.78\n",
      "artist \t\t 2.773\n",
      "actor \t\t 2.638\n",
      "screenwriter \t\t 2.636\n",
      "fiddle \t\t 2.445\n",
      "idol \t\t 2.436\n",
      "drummer \t\t 2.275\n",
      "vocalist \t\t 2.26\n",
      "pianist \t\t 2.24\n",
      "violinist \t\t 2.222\n",
      "dj \t\t 2.208\n",
      "fl \t\t 2.193\n",
      "illustrator \t\t 2.181\n",
      "biographer \t\t 2.176\n",
      "organist \t\t 2.107\n",
      "playwright \t\t 2.065\n",
      "born \t\t 2.052\n",
      "trumpet \t\t 2.038\n",
      "she \t\t 1.999\n",
      "dramatist \t\t 1.966\n",
      "theorist \t\t 1.939\n",
      "patron \t\t 1.928\n",
      "paraguay \t\t 1.917\n",
      "conductor \t\t 1.903\n",
      "performer \t\t 1.888\n",
      "comedian \t\t 1.884\n",
      "he \t\t 1.863\n",
      "soloist \t\t 1.862\n",
      "guitarist \t\t 1.847\n",
      "maintained \t\t 1.847\n",
      "violin \t\t 1.797\n",
      "writes \t\t 1.791\n",
      "collector \t\t 1.788\n",
      "astronomical \t\t 1.786\n",
      "better \t\t 1.778\n",
      "signed \t\t 1.774\n",
      "laureate \t\t 1.762\n",
      "translator \t\t 1.743\n",
      "playback \t\t 1.703\n",
      "creator \t\t 1.661\n",
      "baroque \t\t 1.647\n",
      "editor \t\t 1.646\n",
      "producer \t\t 1.644\n",
      "nsw \t\t 1.638\n",
      "warwick \t\t 1.637\n",
      "rpm \t\t 1.63\n",
      "her \t\t 1.63\n",
      "stage \t\t 1.614\n",
      "ce \t\t 1.611\n",
      "pseudonym \t\t 1.606\n",
      "specimens \t\t 1.587\n",
      "wrote \t\t 1.587\n",
      "historian \t\t 1.581\n",
      "contributor \t\t 1.579\n",
      "guinness \t\t 1.577\n",
      "underwater \t\t 1.575\n",
      "française \t\t 1.571\n",
      "band \t\t 1.567\n",
      "bands \t\t 1.56\n",
      "hopper \t\t 1.553\n",
      "painters \t\t 1.553\n",
      "kannada \t\t 1.553\n",
      "weighs \t\t 1.552\n",
      "entitled \t\t 1.546\n",
      "characterized \t\t 1.546\n",
      "1768 \t\t 1.54\n",
      "soprano \t\t 1.538\n",
      "jive \t\t 1.534\n",
      "writers \t\t 1.523\n",
      "tours \t\t 1.515\n",
      "pen \t\t 1.515\n",
      "touring \t\t 1.512\n",
      "singers \t\t 1.49\n",
      "scholar \t\t 1.476\n",
      "claim \t\t 1.467\n",
      "painting \t\t 1.462\n",
      "toured \t\t 1.459\n",
      "methodist \t\t 1.451\n",
      "songwriter \t\t 1.446\n",
      "somali \t\t 1.44\n",
      "projects \t\t 1.433\n",
      "banned \t\t 1.432\n",
      "foremost \t\t 1.431\n",
      "marin \t\t 1.427\n"
     ]
    }
   ],
   "source": [
    "print('-'*10,'100 KEYWORD ASSOCIATED WITH [ARTIST] CATEGORY')\n",
    "for i in indices[:100]:\n",
    "    print('{} \\t\\t {}'.format(words[i], np.around(weight[i], 3)))"
   ]
  },
  {
   "cell_type": "markdown",
   "metadata": {},
   "source": [
    "<a id='athelete-4'></a>\n",
    "# 4 Athelete VS Rest"
   ]
  },
  {
   "cell_type": "code",
   "execution_count": 27,
   "metadata": {},
   "outputs": [
    {
     "name": "stderr",
     "output_type": "stream",
     "text": [
      "/usr/local/lib/python3.6/dist-packages/sklearn/linear_model/logistic.py:432: FutureWarning: Default solver will be changed to 'lbfgs' in 0.22. Specify a solver to silence this warning.\n",
      "  FutureWarning)\n"
     ]
    }
   ],
   "source": [
    "clf = sklearn.linear_model.LogisticRegression()\n",
    "clf.fit(X_train['docs'], y_4_athlete)\n",
    "\n",
    "weight = clf.coef_[0]\n",
    "words = cv.get_feature_names()\n",
    "\n",
    "indices = np.argsort(weight)[::-1]"
   ]
  },
  {
   "cell_type": "code",
   "execution_count": 28,
   "metadata": {},
   "outputs": [
    {
     "name": "stdout",
     "output_type": "stream",
     "text": [
      "---------- 100 KEYWORD ASSOCIATED WITH [ATHLETE] CATEGORY\n",
      "cricketer \t\t 5.593\n",
      "footballer \t\t 5.457\n",
      "wrestler \t\t 4.859\n",
      "martial \t\t 4.623\n",
      "driver \t\t 4.127\n",
      "boxer \t\t 3.887\n",
      "swimmer \t\t 3.254\n",
      "golfer \t\t 3.247\n",
      "player \t\t 3.239\n",
      "skater \t\t 3.235\n",
      "cyclist \t\t 3.011\n",
      "rower \t\t 2.914\n",
      "midfielder \t\t 2.896\n",
      "ski \t\t 2.889\n",
      "racer \t\t 2.864\n",
      "skier \t\t 2.815\n",
      "gymnast \t\t 2.781\n",
      "curler \t\t 2.742\n",
      "jockey \t\t 2.714\n",
      "chess \t\t 2.662\n",
      "thrower \t\t 2.654\n",
      "olympics \t\t 2.65\n",
      "pitcher \t\t 2.603\n",
      "football \t\t 2.583\n",
      "athlete \t\t 2.492\n",
      "defender \t\t 2.429\n",
      "rugby \t\t 2.404\n",
      "striker \t\t 2.391\n",
      "professional \t\t 2.36\n",
      "sprinter \t\t 2.283\n",
      "judoka \t\t 2.256\n",
      "competitor \t\t 2.237\n",
      "fencer \t\t 2.209\n",
      "tennis \t\t 2.154\n",
      "goalkeeper \t\t 2.127\n",
      "runner \t\t 2.123\n",
      "paralympic \t\t 2.086\n",
      "middleweight \t\t 2.053\n",
      "rider \t\t 2.04\n",
      "grandmaster \t\t 2.017\n",
      "jumper \t\t 1.982\n",
      "medalist \t\t 1.96\n",
      "goaltender \t\t 1.958\n",
      "instructor \t\t 1.953\n",
      "champion \t\t 1.934\n",
      "outfielder \t\t 1.873\n",
      "weightlifter \t\t 1.865\n",
      "plays \t\t 1.8\n",
      "coach \t\t 1.792\n",
      "league \t\t 1.764\n",
      "heavyweight \t\t 1.724\n",
      "team \t\t 1.721\n",
      "chi \t\t 1.688\n",
      "played \t\t 1.687\n",
      "winger \t\t 1.685\n",
      "sportsman \t\t 1.683\n",
      "retired \t\t 1.659\n",
      "racing \t\t 1.653\n",
      "born \t\t 1.636\n",
      "person \t\t 1.616\n",
      "test \t\t 1.612\n",
      "shooter \t\t 1.608\n",
      "championships \t\t 1.599\n",
      "speedway \t\t 1.591\n",
      "brazilian \t\t 1.59\n",
      "baseman \t\t 1.589\n",
      "poker \t\t 1.573\n",
      "finnish \t\t 1.57\n",
      "okinawa \t\t 1.567\n",
      "umpire \t\t 1.555\n",
      "cricket \t\t 1.542\n",
      "matches \t\t 1.531\n",
      "pentathlete \t\t 1.51\n",
      "ring \t\t 1.506\n",
      "baseball \t\t 1.496\n",
      "bowler \t\t 1.495\n",
      "draft \t\t 1.462\n",
      "ice \t\t 1.456\n",
      "wrestling \t\t 1.452\n",
      "forward \t\t 1.446\n",
      "thai \t\t 1.427\n",
      "practitioner \t\t 1.421\n",
      "medals \t\t 1.415\n",
      "quarterback \t\t 1.409\n",
      "tournaments \t\t 1.389\n",
      "nascar \t\t 1.387\n",
      "sprint \t\t 1.382\n",
      "olympic \t\t 1.382\n",
      "promoter \t\t 1.357\n",
      "belt \t\t 1.333\n",
      "catcher \t\t 1.321\n",
      "sailor \t\t 1.308\n",
      "twice \t\t 1.307\n",
      "nfl \t\t 1.307\n",
      "female \t\t 1.295\n",
      "founder \t\t 1.292\n",
      "trainer \t\t 1.288\n",
      "masters \t\t 1.28\n",
      "nickname \t\t 1.277\n",
      "libre \t\t 1.276\n"
     ]
    }
   ],
   "source": [
    "print('-'*10,'100 KEYWORD ASSOCIATED WITH [ATHLETE] CATEGORY')\n",
    "for i in indices[:100]:\n",
    "    print('{} \\t\\t {}'.format(words[i], np.around(weight[i], 3)))"
   ]
  },
  {
   "cell_type": "code",
   "execution_count": null,
   "metadata": {},
   "outputs": [],
   "source": []
  }
 ],
 "metadata": {
  "kernelspec": {
   "display_name": "Python 3",
   "language": "python",
   "name": "python3"
  },
  "language_info": {
   "codemirror_mode": {
    "name": "ipython",
    "version": 3
   },
   "file_extension": ".py",
   "mimetype": "text/x-python",
   "name": "python",
   "nbconvert_exporter": "python",
   "pygments_lexer": "ipython3",
   "version": "3.6.7"
  }
 },
 "nbformat": 4,
 "nbformat_minor": 2
}
