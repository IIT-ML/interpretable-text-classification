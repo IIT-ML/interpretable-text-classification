{
 "cells": [
  {
   "cell_type": "code",
   "execution_count": 2,
   "metadata": {},
   "outputs": [],
   "source": [
    "import os\n",
    "import logging\n",
    "import numpy as np\n",
    "import glob\n",
    "from bs4 import BeautifulSoup\n",
    "from nltk.tokenize import word_tokenize\n",
    "from utils.dataset_helper import load_ag_news\n",
    "\n",
    "os.environ['TZ'] = 'America/Chicago'\n",
    "logger = logging.getLogger()\n",
    "logger.setLevel(logging.INFO)"
   ]
  },
  {
   "cell_type": "code",
   "execution_count": 3,
   "metadata": {},
   "outputs": [],
   "source": [
    "PATH = './dataset/dbpedia_csv/'"
   ]
  },
  {
   "cell_type": "code",
   "execution_count": 4,
   "metadata": {},
   "outputs": [
    {
     "name": "stderr",
     "output_type": "stream",
     "text": [
      "2019-06-23 16:16:27,472 INFO Shuffled.\n",
      "2019-06-23 16:16:28,383 INFO Lowered.\n",
      "2019-06-23 16:22:44,912 INFO Tokenized.\n"
     ]
    }
   ],
   "source": [
    "#dbpedia and ag_news have the same format\n",
    "x_train, x_test, y_train, y_test = load_ag_news(PATH,\n",
    "                                                  shuffle = True, \n",
    "                                                  lower = True, \n",
    "                                                  tokenize = True)"
   ]
  },
  {
   "cell_type": "code",
   "execution_count": 5,
   "metadata": {},
   "outputs": [
    {
     "name": "stdout",
     "output_type": "stream",
     "text": [
      "Total training : 560000\n",
      "Total testing : 70000\n"
     ]
    }
   ],
   "source": [
    "print('Total training : {}'.format(len(x_train)))\n",
    "print('Total testing : {}'.format(len(x_test)))"
   ]
  },
  {
   "cell_type": "code",
   "execution_count": 7,
   "metadata": {},
   "outputs": [
    {
     "data": {
      "text/plain": [
       "'the sterling piano company was a piano manufacturer in derby connecticut . the company was founded in 1873 by charles a. sterling as the sterling organ company . sterling had purchased the birmingham organ company in 1871 and had $ 30000 to fund the company . the sterling organ company began making pianos in 1885 .'"
      ]
     },
     "execution_count": 7,
     "metadata": {},
     "output_type": "execute_result"
    }
   ],
   "source": [
    "' '.join(x_train[0])"
   ]
  },
  {
   "cell_type": "markdown",
   "metadata": {},
   "source": [
    "## Class, headline, content\n",
    "\n",
    "1 Company <br>\n",
    "2 EducationalInstitution <br>\n",
    "3 Artist <br>\n",
    "4 Athlete <br>\n",
    "5 OfficeHolder <br>\n",
    "6 MeanOfTransportation <br>\n",
    "7 Building <br>\n",
    "8 NaturalPlace <br>\n",
    "9 Village <br>\n",
    "10 Animal <br>\n",
    "11 Plant <br>\n",
    "12 Album <br>\n",
    "13 Film <br>\n",
    "14 WrittenWork <br>\n",
    "<br> <br>\n",
    "The load function load label as {1,2,3,4.... 14}. <br>\n",
    "We need to use one-hot vector"
   ]
  },
  {
   "cell_type": "code",
   "execution_count": 5,
   "metadata": {},
   "outputs": [],
   "source": [
    "y_1_world = [1 if label == 1 else 0 for label in y_train]\n",
    "y_2_sports = [1 if label == 2 else 0 for label in y_train]\n",
    "y_3_buss = [1 if label == 3 else 0 for label in y_train]\n",
    "y_4_scitech = [1 if label == 4 else 0 for label in y_train]"
   ]
  },
  {
   "cell_type": "code",
   "execution_count": 6,
   "metadata": {},
   "outputs": [],
   "source": [
    "from utils import utils\n",
    "import sklearn"
   ]
  },
  {
   "cell_type": "code",
   "execution_count": 7,
   "metadata": {},
   "outputs": [],
   "source": [
    "X_train, X_test, cv = utils.vectorize_keywords_docs(x_train, x_test, return_cv=True)"
   ]
  },
  {
   "cell_type": "code",
   "execution_count": 8,
   "metadata": {},
   "outputs": [
    {
     "data": {
      "text/plain": [
       "((120000, 4079), (7600, 4079))"
      ]
     },
     "execution_count": 8,
     "metadata": {},
     "output_type": "execute_result"
    }
   ],
   "source": [
    "X_train['docs'].shape, X_test['docs'].shape"
   ]
  },
  {
   "cell_type": "code",
   "execution_count": 9,
   "metadata": {},
   "outputs": [],
   "source": [
    "del x_train, x_test"
   ]
  },
  {
   "cell_type": "markdown",
   "metadata": {},
   "source": [
    "# 1 world vs rest"
   ]
  },
  {
   "cell_type": "code",
   "execution_count": 26,
   "metadata": {},
   "outputs": [],
   "source": [
    "clf = sklearn.linear_model.LogisticRegression()\n",
    "clf.fit(X_train['docs'], y_1_world)\n",
    "\n",
    "weight = clf.coef_[0]\n",
    "words = cv.get_feature_names()\n",
    "\n",
    "indices = np.argsort(weight)[::-1]"
   ]
  },
  {
   "cell_type": "code",
   "execution_count": 27,
   "metadata": {},
   "outputs": [
    {
     "name": "stdout",
     "output_type": "stream",
     "text": [
      "---------- 100 KEYWORD ASSOCIATED WITH [WORLD] CATEGORY\n",
      "kashmir \t\t 2.931\n",
      "arafat \t\t 2.912\n",
      "darfur \t\t 2.772\n",
      "afp \t\t 2.633\n",
      "palestinian \t\t 2.426\n",
      "palestinians \t\t 2.34\n",
      "hostages \t\t 2.332\n",
      "nepal \t\t 2.321\n",
      "prince \t\t 2.295\n",
      "hostage \t\t 2.275\n",
      "crimes \t\t 2.264\n",
      "militants \t\t 2.229\n",
      "nuclear \t\t 2.172\n",
      "afghanistan \t\t 2.169\n",
      "p \t\t 2.133\n",
      "muslims \t\t 2.133\n",
      "beslan \t\t 2.121\n",
      "separatist \t\t 2.088\n",
      "troops \t\t 2.011\n",
      "iraqis \t\t 1.985\n",
      "fallujah \t\t 1.939\n",
      "greece \t\t 1.939\n",
      "sadr \t\t 1.918\n",
      "baghdad \t\t 1.9\n",
      "rebels \t\t 1.895\n",
      "guantanamo \t\t 1.893\n",
      "shrine \t\t 1.876\n",
      "muslim \t\t 1.875\n",
      "cuba \t\t 1.851\n",
      "democracy \t\t 1.818\n",
      "falluja \t\t 1.81\n",
      "bombing \t\t 1.786\n",
      "saddam \t\t 1.782\n",
      "lebanon \t\t 1.781\n",
      "libya \t\t 1.774\n",
      "israel \t\t 1.772\n",
      "haiti \t\t 1.771\n",
      "hassan \t\t 1.765\n",
      "peace \t\t 1.759\n",
      "iraqi \t\t 1.754\n",
      "terrorism \t\t 1.753\n",
      "elections \t\t 1.748\n",
      "typhoon \t\t 1.732\n",
      "kabul \t\t 1.731\n",
      "church \t\t 1.729\n",
      "abu \t\t 1.726\n",
      "refugees \t\t 1.718\n",
      "democrats \t\t 1.7\n",
      "sudan \t\t 1.688\n",
      "corruption \t\t 1.678\n",
      "indonesia \t\t 1.673\n",
      "iraq \t\t 1.67\n",
      "un \t\t 1.657\n",
      "embassy \t\t 1.657\n",
      "king \t\t 1.656\n",
      "islamabad \t\t 1.652\n",
      "military \t\t 1.647\n",
      "commander \t\t 1.642\n",
      "blair \t\t 1.628\n",
      "myanmar \t\t 1.622\n",
      "iran \t\t 1.611\n",
      "humanitarian \t\t 1.61\n",
      "chechnya \t\t 1.605\n",
      "mph \t\t 1.601\n",
      "turkey \t\t 1.6\n",
      "parliament \t\t 1.559\n",
      "explosives \t\t 1.553\n",
      "afghan \t\t 1.548\n",
      "palace \t\t 1.53\n",
      "murder \t\t 1.529\n",
      "taiwan \t\t 1.526\n",
      "qaida \t\t 1.52\n",
      "chechen \t\t 1.511\n",
      "settlements \t\t 1.508\n",
      "democrat \t\t 1.501\n",
      "anniversary \t\t 1.498\n",
      "insurgency \t\t 1.493\n",
      "flu \t\t 1.459\n",
      "islamic \t\t 1.457\n",
      "peacekeepers \t\t 1.454\n",
      "army \t\t 1.448\n",
      "ambassador \t\t 1.447\n",
      "hamas \t\t 1.44\n",
      "jailed \t\t 1.433\n",
      "ukraine \t\t 1.426\n",
      "museum \t\t 1.42\n",
      "soldiers \t\t 1.415\n",
      "abbas \t\t 1.405\n",
      "sharon \t\t 1.395\n",
      "canadian \t\t 1.394\n",
      "guerrillas \t\t 1.388\n",
      "arab \t\t 1.375\n",
      "explosions \t\t 1.37\n",
      "village \t\t 1.366\n",
      "equatorial \t\t 1.351\n",
      "khartoum \t\t 1.346\n",
      "train \t\t 1.341\n",
      "coup \t\t 1.339\n",
      "jerusalem \t\t 1.338\n",
      "ethnic \t\t 1.337\n"
     ]
    }
   ],
   "source": [
    "print('-'*10,'100 KEYWORD ASSOCIATED WITH [WORLD] CATEGORY')\n",
    "for i in indices[:100]:\n",
    "    print('{} \\t\\t {}'.format(words[i], np.around(weight[i], 3)))"
   ]
  },
  {
   "cell_type": "markdown",
   "metadata": {},
   "source": [
    "# 2 Sports VS Rest"
   ]
  },
  {
   "cell_type": "code",
   "execution_count": 29,
   "metadata": {},
   "outputs": [
    {
     "name": "stderr",
     "output_type": "stream",
     "text": [
      "/usr/local/lib/python3.6/dist-packages/sklearn/linear_model/logistic.py:432: FutureWarning: Default solver will be changed to 'lbfgs' in 0.22. Specify a solver to silence this warning.\n",
      "  FutureWarning)\n"
     ]
    }
   ],
   "source": [
    "clf = sklearn.linear_model.LogisticRegression()\n",
    "clf.fit(X_train['docs'], y_2_sports)\n",
    "\n",
    "weight = clf.coef_[0]\n",
    "words = cv.get_feature_names()\n",
    "\n",
    "indices = np.argsort(weight)[::-1]"
   ]
  },
  {
   "cell_type": "code",
   "execution_count": 31,
   "metadata": {},
   "outputs": [
    {
     "name": "stdout",
     "output_type": "stream",
     "text": [
      "---------- 100 KEYWORD ASSOCIATED WITH [SPORTS] CATEGORY\n",
      "nascar \t\t 4.063\n",
      "cricket \t\t 3.261\n",
      "auburn \t\t 3.042\n",
      "nhl \t\t 2.95\n",
      "teams \t\t 2.839\n",
      "cup \t\t 2.807\n",
      "boxing \t\t 2.77\n",
      "redskins \t\t 2.72\n",
      "kobe \t\t 2.65\n",
      "sports \t\t 2.635\n",
      "formula \t\t 2.586\n",
      "coaches \t\t 2.513\n",
      "nba \t\t 2.499\n",
      "ncaa \t\t 2.464\n",
      "athletic \t\t 2.461\n",
      "coach \t\t 2.459\n",
      "baseball \t\t 2.406\n",
      "pitcher \t\t 2.402\n",
      "rugby \t\t 2.372\n",
      "coaching \t\t 2.359\n",
      "bowl \t\t 2.355\n",
      "olympics \t\t 2.313\n",
      "prix \t\t 2.291\n",
      "ticker \t\t 2.285\n",
      "mets \t\t 2.278\n",
      "football \t\t 2.239\n",
      "orleans \t\t 2.231\n",
      "doping \t\t 2.229\n",
      "stadium \t\t 2.219\n",
      "cleveland \t\t 2.214\n",
      "jersey \t\t 2.186\n",
      "quarterback \t\t 2.16\n",
      "sox \t\t 2.121\n",
      "tennis \t\t 2.115\n",
      "nfl \t\t 2.113\n",
      "basketball \t\t 2.109\n",
      "knicks \t\t 2.104\n",
      "expos \t\t 2.066\n",
      "br \t\t 2.046\n",
      "manchester \t\t 2.015\n",
      "soccer \t\t 1.988\n",
      "squad \t\t 1.982\n",
      "outfielder \t\t 1.974\n",
      "olympic \t\t 1.974\n",
      "bryant \t\t 1.971\n",
      "linebacker \t\t 1.928\n",
      "arena \t\t 1.927\n",
      "philadelphia \t\t 1.912\n",
      "heavyweight \t\t 1.903\n",
      "speedway \t\t 1.879\n",
      "college \t\t 1.873\n",
      "striker \t\t 1.868\n",
      "patriots \t\t 1.84\n",
      "espn \t\t 1.836\n",
      "offensive \t\t 1.825\n",
      "lakers \t\t 1.799\n",
      "racing \t\t 1.784\n",
      "anaheim \t\t 1.777\n",
      "manager \t\t 1.771\n",
      "roster \t\t 1.77\n",
      "eagles \t\t 1.755\n",
      "player \t\t 1.753\n",
      "pacers \t\t 1.734\n",
      "sport \t\t 1.715\n",
      "preseason \t\t 1.7\n",
      "players \t\t 1.695\n",
      "everton \t\t 1.676\n",
      "seed \t\t 1.669\n",
      "meters \t\t 1.655\n",
      "club \t\t 1.648\n",
      "brawl \t\t 1.641\n",
      "defender \t\t 1.64\n",
      "league \t\t 1.636\n",
      "ron \t\t 1.62\n",
      "par \t\t 1.617\n",
      "team \t\t 1.601\n",
      "jim \t\t 1.599\n",
      "ricky \t\t 1.582\n",
      "champion \t\t 1.58\n",
      "nets \t\t 1.574\n",
      "cubs \t\t 1.566\n",
      "notre \t\t 1.561\n",
      "pga \t\t 1.542\n",
      "celtics \t\t 1.536\n",
      "offense \t\t 1.536\n",
      "athletics \t\t 1.528\n",
      "agent \t\t 1.523\n",
      "defensive \t\t 1.514\n",
      "packers \t\t 1.513\n",
      "newcastle \t\t 1.509\n",
      "orioles \t\t 1.505\n",
      "diego \t\t 1.501\n",
      "diamondbacks \t\t 1.499\n",
      "steroids \t\t 1.499\n",
      "milwaukee \t\t 1.496\n",
      "hockey \t\t 1.493\n",
      "devil \t\t 1.47\n",
      "ken \t\t 1.468\n",
      "masters \t\t 1.46\n",
      "yankees \t\t 1.458\n"
     ]
    }
   ],
   "source": [
    "print('-'*10,'100 KEYWORD ASSOCIATED WITH [SPORTS] CATEGORY')\n",
    "for i in indices[:100]:\n",
    "    print('{} \\t\\t {}'.format(words[i], np.around(weight[i], 3)))"
   ]
  },
  {
   "cell_type": "markdown",
   "metadata": {},
   "source": [
    "# 3 Business VS Rest"
   ]
  },
  {
   "cell_type": "code",
   "execution_count": 32,
   "metadata": {},
   "outputs": [
    {
     "name": "stderr",
     "output_type": "stream",
     "text": [
      "/usr/local/lib/python3.6/dist-packages/sklearn/linear_model/logistic.py:432: FutureWarning: Default solver will be changed to 'lbfgs' in 0.22. Specify a solver to silence this warning.\n",
      "  FutureWarning)\n"
     ]
    }
   ],
   "source": [
    "clf = sklearn.linear_model.LogisticRegression()\n",
    "clf.fit(X_train['docs'], y_3_buss)\n",
    "\n",
    "weight = clf.coef_[0]\n",
    "words = cv.get_feature_names()\n",
    "\n",
    "indices = np.argsort(weight)[::-1]"
   ]
  },
  {
   "cell_type": "code",
   "execution_count": 33,
   "metadata": {},
   "outputs": [
    {
     "name": "stdout",
     "output_type": "stream",
     "text": [
      "---------- 100 KEYWORD ASSOCIATED WITH [BUSINESS] CATEGORY\n",
      "forbes \t\t 3.814\n",
      "hollinger \t\t 3.075\n",
      "enron \t\t 2.861\n",
      "newratings \t\t 2.694\n",
      "alitalia \t\t 2.596\n",
      "martha \t\t 2.473\n",
      "halliburton \t\t 2.263\n",
      "com/fullquote \t\t 2.139\n",
      "stocks/quickinfo/fullquote \t\t 2.139\n",
      "aspx \t\t 2.139\n",
      "treasury \t\t 2.059\n",
      "vioxx \t\t 2.048\n",
      "jobless \t\t 2.04\n",
      "opec \t\t 2.018\n",
      "mutual \t\t 2.008\n",
      "airlines \t\t 1.988\n",
      "retailers \t\t 1.962\n",
      "stern \t\t 1.919\n",
      "massachusetts \t\t 1.904\n",
      "href \t\t 1.894\n",
      "kmart \t\t 1.837\n",
      "mw \t\t 1.817\n",
      "disney \t\t 1.808\n",
      "cnn/money \t\t 1.8\n",
      "monetary \t\t 1.795\n",
      "marsh \t\t 1.774\n",
      "tax \t\t 1.77\n",
      "casino \t\t 1.763\n",
      "fannie \t\t 1.761\n",
      "insurance \t\t 1.758\n",
      "mortgage \t\t 1.749\n",
      "quote \t\t 1.74\n",
      "bidding \t\t 1.726\n",
      "estate \t\t 1.695\n",
      "nyse \t\t 1.671\n",
      "sbc \t\t 1.648\n",
      "amp \t\t 1.613\n",
      "motors \t\t 1.606\n",
      "steel \t\t 1.597\n",
      "insurers \t\t 1.583\n",
      "funds \t\t 1.582\n",
      "insurer \t\t 1.579\n",
      "finance \t\t 1.573\n",
      "sears \t\t 1.565\n",
      "loan \t\t 1.558\n",
      "hugo \t\t 1.55\n",
      "cent \t\t 1.543\n",
      "economists \t\t 1.523\n",
      "retailer \t\t 1.521\n",
      "dividend \t\t 1.491\n",
      "improper \t\t 1.491\n",
      "bank \t\t 1.484\n",
      "foods \t\t 1.47\n",
      "airways \t\t 1.451\n",
      "harmony \t\t 1.434\n",
      "christmas \t\t 1.43\n",
      "rental \t\t 1.426\n",
      "income \t\t 1.425\n",
      "investment \t\t 1.411\n",
      "citigroup \t\t 1.398\n",
      "hotels \t\t 1.389\n",
      "thanksgiving \t\t 1.379\n",
      "profits \t\t 1.377\n",
      "clothing \t\t 1.374\n",
      "eisner \t\t 1.36\n",
      "economy \t\t 1.354\n",
      "chosen \t\t 1.351\n",
      "murdoch \t\t 1.343\n",
      "fees \t\t 1.338\n",
      "securities \t\t 1.335\n",
      "imports \t\t 1.334\n",
      "detroit \t\t 1.334\n",
      "pfizer \t\t 1.331\n",
      "producer \t\t 1.326\n",
      "bell \t\t 1.308\n",
      "nikkei \t\t 1.307\n",
      "stewart \t\t 1.305\n",
      "slid \t\t 1.295\n",
      "automaker \t\t 1.29\n",
      "yukos \t\t 1.283\n",
      "airbus \t\t 1.279\n",
      "_ \t\t 1.277\n",
      "bond \t\t 1.271\n",
      "factories \t\t 1.262\n",
      "holiday \t\t 1.244\n",
      "mae \t\t 1.241\n",
      "above \t\t 1.236\n",
      "stock \t\t 1.233\n",
      "euro \t\t 1.225\n",
      "banks \t\t 1.224\n",
      "boston \t\t 1.213\n",
      "boeing \t\t 1.209\n",
      "snow \t\t 1.208\n",
      "dow \t\t 1.198\n",
      "tobacco \t\t 1.198\n",
      "unexpectedly \t\t 1.19\n",
      "heating \t\t 1.185\n",
      "stake \t\t 1.155\n",
      "currency \t\t 1.154\n",
      "hiring \t\t 1.152\n"
     ]
    }
   ],
   "source": [
    "print('-'*10,'100 KEYWORD ASSOCIATED WITH [BUSINESS] CATEGORY')\n",
    "for i in indices[:100]:\n",
    "    print('{} \\t\\t {}'.format(words[i], np.around(weight[i], 3)))"
   ]
  },
  {
   "cell_type": "markdown",
   "metadata": {},
   "source": [
    "# 4 Sci/Tech VS Rest"
   ]
  },
  {
   "cell_type": "code",
   "execution_count": 34,
   "metadata": {},
   "outputs": [
    {
     "name": "stderr",
     "output_type": "stream",
     "text": [
      "/usr/local/lib/python3.6/dist-packages/sklearn/linear_model/logistic.py:432: FutureWarning: Default solver will be changed to 'lbfgs' in 0.22. Specify a solver to silence this warning.\n",
      "  FutureWarning)\n"
     ]
    }
   ],
   "source": [
    "clf = sklearn.linear_model.LogisticRegression()\n",
    "clf.fit(X_train['docs'], y_4_scitech)\n",
    "\n",
    "weight = clf.coef_[0]\n",
    "words = cv.get_feature_names()\n",
    "\n",
    "indices = np.argsort(weight)[::-1]"
   ]
  },
  {
   "cell_type": "code",
   "execution_count": 35,
   "metadata": {},
   "outputs": [
    {
     "name": "stdout",
     "output_type": "stream",
     "text": [
      "---------- 100 KEYWORD ASSOCIATED WITH [BUSINESS] CATEGORY\n",
      "nasa \t\t 3.228\n",
      "helens \t\t 2.969\n",
      "newsfactor \t\t 2.816\n",
      "ziff \t\t 2.805\n",
      "evolution \t\t 2.678\n",
      "xbox \t\t 2.624\n",
      "voip \t\t 2.623\n",
      "worm \t\t 2.585\n",
      "cyber \t\t 2.522\n",
      "hp \t\t 2.446\n",
      "washingtonpost \t\t 2.43\n",
      "spaceshipone \t\t 2.406\n",
      "birds \t\t 2.4\n",
      "linux \t\t 2.389\n",
      "hackers \t\t 2.381\n",
      "spam \t\t 2.321\n",
      "space \t\t 2.292\n",
      "mp3 \t\t 2.267\n",
      "arctic \t\t 2.241\n",
      "moon \t\t 2.193\n",
      "apple \t\t 2.189\n",
      "kennedy \t\t 2.18\n",
      "mars \t\t 2.163\n",
      "halo \t\t 2.116\n",
      "astronauts \t\t 2.061\n",
      "nintendo \t\t 2.04\n",
      "mozilla \t\t 2.012\n",
      "saturn \t\t 2.007\n",
      "processors \t\t 1.987\n",
      "astronomers \t\t 1.94\n",
      "telescope \t\t 1.901\n",
      "scientists \t\t 1.885\n",
      "dna \t\t 1.862\n",
      "humans \t\t 1.851\n",
      "browser \t\t 1.822\n",
      "firefox \t\t 1.738\n",
      "id \t\t 1.721\n",
      "science \t\t 1.714\n",
      "code \t\t 1.707\n",
      "branson \t\t 1.687\n",
      "java \t\t 1.656\n",
      "roundup \t\t 1.654\n",
      "pollution \t\t 1.647\n",
      "shuttle \t\t 1.616\n",
      "recording \t\t 1.609\n",
      "supercomputer \t\t 1.592\n",
      "laboratory \t\t 1.592\n",
      "dvd \t\t 1.585\n",
      "sp2 \t\t 1.579\n",
      "msn \t\t 1.569\n",
      "beta \t\t 1.568\n",
      "theft \t\t 1.561\n",
      "nokia \t\t 1.544\n",
      "disk \t\t 1.534\n",
      "scientific \t\t 1.533\n",
      "ship \t\t 1.531\n",
      "discovered \t\t 1.526\n",
      "pack \t\t 1.525\n",
      "web \t\t 1.503\n",
      "rocket \t\t 1.494\n",
      "flaw \t\t 1.49\n",
      "article \t\t 1.487\n",
      "lt \t\t 1.473\n",
      "vulnerabilities \t\t 1.473\n",
      "researchers \t\t 1.453\n",
      "playstation \t\t 1.438\n",
      "solar \t\t 1.435\n",
      "server \t\t 1.435\n",
      "sven \t\t 1.423\n",
      "study \t\t 1.423\n",
      "engines \t\t 1.414\n",
      "spammers \t\t 1.413\n",
      "internet \t\t 1.412\n",
      "spacecraft \t\t 1.403\n",
      "established \t\t 1.385\n",
      "spyware \t\t 1.371\n",
      "scientist \t\t 1.369\n",
      "wi \t\t 1.357\n",
      "wired \t\t 1.357\n",
      "infoworld \t\t 1.35\n",
      "amd \t\t 1.347\n",
      "fi \t\t 1.338\n",
      "endangered \t\t 1.328\n",
      "video \t\t 1.319\n",
      "inch \t\t 1.301\n",
      "developed \t\t 1.3\n",
      "itunes \t\t 1.3\n",
      "warming \t\t 1.29\n",
      "environmental \t\t 1.271\n",
      "format \t\t 1.27\n",
      "species \t\t 1.27\n",
      "cassini \t\t 1.256\n",
      "microsystems \t\t 1.247\n",
      "yahoo \t\t 1.242\n",
      "ebay \t\t 1.241\n",
      "maccentral \t\t 1.238\n",
      "discovery \t\t 1.231\n",
      "sites \t\t 1.23\n",
      "sky \t\t 1.229\n",
      "software \t\t 1.224\n"
     ]
    }
   ],
   "source": [
    "print('-'*10,'100 KEYWORD ASSOCIATED WITH [BUSINESS] CATEGORY')\n",
    "for i in indices[:100]:\n",
    "    print('{} \\t\\t {}'.format(words[i], np.around(weight[i], 3)))"
   ]
  },
  {
   "cell_type": "code",
   "execution_count": null,
   "metadata": {},
   "outputs": [],
   "source": []
  }
 ],
 "metadata": {
  "kernelspec": {
   "display_name": "Python 3",
   "language": "python",
   "name": "python3"
  },
  "language_info": {
   "codemirror_mode": {
    "name": "ipython",
    "version": 3
   },
   "file_extension": ".py",
   "mimetype": "text/x-python",
   "name": "python",
   "nbconvert_exporter": "python",
   "pygments_lexer": "ipython3",
   "version": "3.6.7"
  }
 },
 "nbformat": 4,
 "nbformat_minor": 2
}
