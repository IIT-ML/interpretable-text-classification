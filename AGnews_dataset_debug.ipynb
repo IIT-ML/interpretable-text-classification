{
 "cells": [
  {
   "cell_type": "code",
   "execution_count": 55,
   "metadata": {},
   "outputs": [],
   "source": [
    "import os\n",
    "import logging\n",
    "import numpy as np\n",
    "import glob\n",
    "import seaborn as sns\n",
    "import pandas as pd\n",
    "from bs4 import BeautifulSoup\n",
    "from nltk.tokenize import word_tokenize\n",
    "from utils.dataset_helper import load_ag_news\n",
    "\n",
    "\n",
    "os.environ['CUDA_VISIBLE_DEVICES'] = ''\n",
    "os.environ['TZ'] = 'America/Chicago'\n",
    "logger = logging.getLogger()\n",
    "logger.setLevel(logging.INFO)\n",
    "import seaborn as sns\n",
    "import matplotlib.pyplot as plt\n",
    "\n",
    "sns.set(style=\"darkgrid\")"
   ]
  },
  {
   "cell_type": "code",
   "execution_count": 56,
   "metadata": {},
   "outputs": [],
   "source": [
    "PATH = '/home/anneke/Documents/ann-mitchell-text-classification/dataset/ag_news_csv'"
   ]
  },
  {
   "cell_type": "code",
   "execution_count": 57,
   "metadata": {},
   "outputs": [
    {
     "name": "stderr",
     "output_type": "stream",
     "text": [
      "2019-09-05 21:08:46,986 INFO Shuffled.\n",
      "2019-09-05 21:08:47,076 INFO Lowered.\n"
     ]
    }
   ],
   "source": [
    "x_train, x_test, y_train, y_test = load_ag_news(PATH,\n",
    "                                                  shuffle = True, \n",
    "                                                  lower = True, \n",
    "                                                  tokenize = False)"
   ]
  },
  {
   "cell_type": "code",
   "execution_count": 58,
   "metadata": {},
   "outputs": [
    {
     "data": {
      "text/plain": [
       "list"
      ]
     },
     "execution_count": 58,
     "metadata": {},
     "output_type": "execute_result"
    }
   ],
   "source": [
    "type(x_train)"
   ]
  },
  {
   "cell_type": "code",
   "execution_count": 59,
   "metadata": {},
   "outputs": [
    {
     "ename": "TypeError",
     "evalue": "only integer scalar arrays can be converted to a scalar index",
     "output_type": "error",
     "traceback": [
      "\u001b[0;31m---------------------------------------------------------------------------\u001b[0m",
      "\u001b[0;31mTypeError\u001b[0m                                 Traceback (most recent call last)",
      "\u001b[0;32m<ipython-input-59-31b722c648ed>\u001b[0m in \u001b[0;36m<module>\u001b[0;34m\u001b[0m\n\u001b[1;32m      1\u001b[0m \u001b[0mind\u001b[0m\u001b[0;34m=\u001b[0m\u001b[0mnp\u001b[0m\u001b[0;34m.\u001b[0m\u001b[0marray\u001b[0m\u001b[0;34m(\u001b[0m\u001b[0;34m[\u001b[0m\u001b[0;36m0\u001b[0m\u001b[0;34m,\u001b[0m\u001b[0;36m1\u001b[0m\u001b[0;34m,\u001b[0m\u001b[0;36m6\u001b[0m\u001b[0;34m]\u001b[0m\u001b[0;34m)\u001b[0m\u001b[0;34m\u001b[0m\u001b[0;34m\u001b[0m\u001b[0m\n\u001b[1;32m      2\u001b[0m \u001b[0;34m\u001b[0m\u001b[0m\n\u001b[0;32m----> 3\u001b[0;31m \u001b[0mx_train\u001b[0m\u001b[0;34m[\u001b[0m\u001b[0mind\u001b[0m\u001b[0;34m]\u001b[0m\u001b[0;34m\u001b[0m\u001b[0;34m\u001b[0m\u001b[0m\n\u001b[0m",
      "\u001b[0;31mTypeError\u001b[0m: only integer scalar arrays can be converted to a scalar index"
     ]
    }
   ],
   "source": [
    "ind=np.array([0,1,6])\n",
    "\n",
    "x_train[ind]"
   ]
  },
  {
   "cell_type": "code",
   "execution_count": 60,
   "metadata": {},
   "outputs": [
    {
     "data": {
      "text/plain": [
       "['london - the british broadcasting corporation, the world #39;s biggest public broadcaster, is to cut almost a quarter of its 28 000-strong workforce, in the biggest shake-up in its 82-year history, the times newspaper in london said on monday.',\n",
       " 'embattled insurance broker #39;s banks agree to waive clause that may have prevented access to credit. new york (reuters) - marsh  amp; mclennan cos.',\n",
       " 'oil prices eased yesterday as top world exporter saudi arabia slashed prices for its westbound crude sales in an effort to shift the large volumes it is offering to cool world markets.']"
      ]
     },
     "execution_count": 60,
     "metadata": {},
     "output_type": "execute_result"
    }
   ],
   "source": [
    "[x_train[i] for i in ind]"
   ]
  },
  {
   "cell_type": "code",
   "execution_count": 61,
   "metadata": {},
   "outputs": [
    {
     "name": "stdout",
     "output_type": "stream",
     "text": [
      "Total training : 120000\n",
      "Total testing : 7600\n"
     ]
    }
   ],
   "source": [
    "print('Total training : {}'.format(len(x_train)))\n",
    "print('Total testing : {}'.format(len(x_test)))"
   ]
  },
  {
   "cell_type": "code",
   "execution_count": 62,
   "metadata": {},
   "outputs": [],
   "source": [
    "LABEL = {1:'World', 2:'Sports', 3:'Business', 4:'Sci/Tech'}\n",
    "def convert_label(l):\n",
    "    return LABEL[l]\n",
    "\n",
    "train_label = list(map(convert_label, y_train))\n",
    "\n",
    "df = pd.DataFrame(train_label, columns=['label'])"
   ]
  },
  {
   "cell_type": "code",
   "execution_count": 73,
   "metadata": {},
   "outputs": [],
   "source": [
    "ind = df[(df['label'] == 'Sports') | (df['label'] == 'Sci/Tech')].index.to_numpy()"
   ]
  },
  {
   "cell_type": "code",
   "execution_count": 74,
   "metadata": {},
   "outputs": [],
   "source": [
    "train_len = [len(x_train[x]) for x in ind]\n",
    "tl = pd.DataFrame(sorted(train_len), columns=['cnt'])"
   ]
  },
  {
   "cell_type": "code",
   "execution_count": 78,
   "metadata": {},
   "outputs": [
    {
     "data": {
      "text/plain": [
       "(60000, 1)"
      ]
     },
     "execution_count": 78,
     "metadata": {},
     "output_type": "execute_result"
    }
   ],
   "source": [
    "tl.shape"
   ]
  },
  {
   "cell_type": "code",
   "execution_count": 79,
   "metadata": {},
   "outputs": [
    {
     "data": {
      "text/html": [
       "<div>\n",
       "<style scoped>\n",
       "    .dataframe tbody tr th:only-of-type {\n",
       "        vertical-align: middle;\n",
       "    }\n",
       "\n",
       "    .dataframe tbody tr th {\n",
       "        vertical-align: top;\n",
       "    }\n",
       "\n",
       "    .dataframe thead th {\n",
       "        text-align: right;\n",
       "    }\n",
       "</style>\n",
       "<table border=\"1\" class=\"dataframe\">\n",
       "  <thead>\n",
       "    <tr style=\"text-align: right;\">\n",
       "      <th></th>\n",
       "      <th>cnt</th>\n",
       "    </tr>\n",
       "  </thead>\n",
       "  <tbody>\n",
       "    <tr>\n",
       "      <th>count</th>\n",
       "      <td>60000.000000</td>\n",
       "    </tr>\n",
       "    <tr>\n",
       "      <th>mean</th>\n",
       "      <td>189.511950</td>\n",
       "    </tr>\n",
       "    <tr>\n",
       "      <th>std</th>\n",
       "      <td>66.758469</td>\n",
       "    </tr>\n",
       "    <tr>\n",
       "      <th>min</th>\n",
       "      <td>20.000000</td>\n",
       "    </tr>\n",
       "    <tr>\n",
       "      <th>25%</th>\n",
       "      <td>150.000000</td>\n",
       "    </tr>\n",
       "    <tr>\n",
       "      <th>50%</th>\n",
       "      <td>182.000000</td>\n",
       "    </tr>\n",
       "    <tr>\n",
       "      <th>75%</th>\n",
       "      <td>214.000000</td>\n",
       "    </tr>\n",
       "    <tr>\n",
       "      <th>max</th>\n",
       "      <td>985.000000</td>\n",
       "    </tr>\n",
       "  </tbody>\n",
       "</table>\n",
       "</div>"
      ],
      "text/plain": [
       "                cnt\n",
       "count  60000.000000\n",
       "mean     189.511950\n",
       "std       66.758469\n",
       "min       20.000000\n",
       "25%      150.000000\n",
       "50%      182.000000\n",
       "75%      214.000000\n",
       "max      985.000000"
      ]
     },
     "execution_count": 79,
     "metadata": {},
     "output_type": "execute_result"
    }
   ],
   "source": [
    "tl.describe()"
   ]
  },
  {
   "cell_type": "code",
   "execution_count": 75,
   "metadata": {},
   "outputs": [],
   "source": [
    "m = tl.describe().loc[['50%']]['cnt']"
   ]
  },
  {
   "cell_type": "code",
   "execution_count": 76,
   "metadata": {},
   "outputs": [
    {
     "data": {
      "text/plain": [
       "<matplotlib.lines.Line2D at 0x7fc1957d14a8>"
      ]
     },
     "execution_count": 76,
     "metadata": {},
     "output_type": "execute_result"
    },
    {
     "data": {
      "image/png": "[encoded data removed]",
      "text/plain": [
       "<Figure size 1440x360 with 1 Axes>"
      ]
     },
     "metadata": {},
     "output_type": "display_data"
    }
   ],
   "source": [
    "plt.figure(figsize=(20, 5))\n",
    "plt.title('Number of words for each training data (ascending order). median = {}'.format(int(m)))\n",
    "ax = sns.lineplot(x=tl.index, y=\"cnt\", data=tl)\n",
    "plt.axhline(y=float(m), color='r')\n",
    "# plt.text(.5, .05, 'aaaaa', ha='center')"
   ]
  },
  {
   "cell_type": "code",
   "execution_count": 112,
   "metadata": {},
   "outputs": [],
   "source": [
    "from collections import Counter\n",
    "\n",
    "cnt = Counter()\n",
    "# Count the number of unique words\n",
    "for i in x_train:\n",
    "    for j in i:\n",
    "        cnt[j] += 1"
   ]
  },
  {
   "cell_type": "code",
   "execution_count": 117,
   "metadata": {},
   "outputs": [
    {
     "data": {
      "text/plain": [
       "80555"
      ]
     },
     "execution_count": 117,
     "metadata": {},
     "output_type": "execute_result"
    }
   ],
   "source": [
    "len(cnt)"
   ]
  },
  {
   "cell_type": "code",
   "execution_count": 51,
   "metadata": {},
   "outputs": [
    {
     "data": {
      "image/png": "[encoded data removed]",
      "text/plain": [
       "<Figure size 504x360 with 1 Axes>"
      ]
     },
     "metadata": {},
     "output_type": "display_data"
    }
   ],
   "source": [
    "plt.figure(figsize=(7,5))\n",
    "plt.title('Data distribution of AGNews dataset')\n",
    "ax = sns.countplot(x=\"Label\", data=df)\n",
    "\n",
    "for p in ax.patches:\n",
    "    ax.annotate('{:d}'.format(p.get_height()), (p.get_x()+0.15, p.get_height()+1))"
   ]
  },
  {
   "cell_type": "markdown",
   "metadata": {},
   "source": [
    "## Class, headline, content\n",
    "\n",
    "1 World <br>\n",
    "2 Sports <br>\n",
    "3 Business <br>\n",
    "4 Sci/Tech <br>\n",
    "<br> <br>\n",
    "The load function load label as {1,2,3,4}. <br>\n",
    "We need to use one-hot vector"
   ]
  },
  {
   "cell_type": "code",
   "execution_count": 120,
   "metadata": {},
   "outputs": [],
   "source": [
    "y_1_world = [1 if label == 1 else 0 for label in y_train]\n",
    "y_2_sports = [1 if label == 2 else 0 for label in y_train]\n",
    "y_3_buss = [1 if label == 3 else 0 for label in y_train]\n",
    "y_4_scitech = [1 if label == 4 else 0 for label in y_train]"
   ]
  },
  {
   "cell_type": "code",
   "execution_count": 17,
   "metadata": {},
   "outputs": [],
   "source": [
    "from utils import utils\n",
    "import sklearn"
   ]
  },
  {
   "cell_type": "code",
   "execution_count": 31,
   "metadata": {},
   "outputs": [
    {
     "ename": "TypeError",
     "evalue": "only integer scalar arrays can be converted to a scalar index",
     "output_type": "error",
     "traceback": [
      "\u001b[0;31m---------------------------------------------------------------------------\u001b[0m",
      "\u001b[0;31mTypeError\u001b[0m                                 Traceback (most recent call last)",
      "\u001b[0;32m<ipython-input-31-378bbca53281>\u001b[0m in \u001b[0;36m<module>\u001b[0;34m\u001b[0m\n\u001b[0;32m----> 1\u001b[0;31m \u001b[0mx_tr\u001b[0m \u001b[0;34m=\u001b[0m \u001b[0mx_train\u001b[0m\u001b[0;34m[\u001b[0m\u001b[0mind\u001b[0m\u001b[0;34m]\u001b[0m\u001b[0;34m\u001b[0m\u001b[0;34m\u001b[0m\u001b[0m\n\u001b[0m\u001b[1;32m      2\u001b[0m \u001b[0mx_te\u001b[0m \u001b[0;34m=\u001b[0m \u001b[0mx_train\u001b[0m\u001b[0;34m[\u001b[0m\u001b[0mind\u001b[0m\u001b[0;34m]\u001b[0m\u001b[0;34m\u001b[0m\u001b[0;34m\u001b[0m\u001b[0m\n",
      "\u001b[0;31mTypeError\u001b[0m: only integer scalar arrays can be converted to a scalar index"
     ]
    }
   ],
   "source": [
    "x_tr = x_train[ind]\n",
    "x_te = x_train[ind]"
   ]
  },
  {
   "cell_type": "code",
   "execution_count": null,
   "metadata": {},
   "outputs": [],
   "source": [
    "type(x_tr)"
   ]
  },
  {
   "cell_type": "code",
   "execution_count": 18,
   "metadata": {},
   "outputs": [],
   "source": [
    "X_train, X_test, cv = utils.vectorize_keywords_docs(x_train, x_test, return_cv=True)"
   ]
  },
  {
   "cell_type": "code",
   "execution_count": 19,
   "metadata": {},
   "outputs": [
    {
     "data": {
      "text/plain": [
       "((120000, 4079), (7600, 4079))"
      ]
     },
     "execution_count": 19,
     "metadata": {},
     "output_type": "execute_result"
    }
   ],
   "source": [
    "X_train['docs'].shape, X_test['docs'].shape"
   ]
  },
  {
   "cell_type": "code",
   "execution_count": 22,
   "metadata": {},
   "outputs": [
    {
     "data": {
      "text/plain": [
       "({'docs': <120000x4079 sparse matrix of type '<class 'numpy.int64'>'\n",
       "  \twith 2971911 stored elements in Compressed Sparse Row format>},\n",
       " {'docs': <7600x4079 sparse matrix of type '<class 'numpy.int64'>'\n",
       "  \twith 187554 stored elements in Compressed Sparse Row format>})"
      ]
     },
     "execution_count": 22,
     "metadata": {},
     "output_type": "execute_result"
    }
   ],
   "source": [
    "X_train, X_test"
   ]
  },
  {
   "cell_type": "code",
   "execution_count": 23,
   "metadata": {},
   "outputs": [],
   "source": [
    "ind = np.array(list(np.where(y_train==2)[0]) + list(np.where(y_train==4)[0]))\n",
    "\n",
    "X_train['docs'] = X_train['docs'][ind]\n",
    "y_train = y_train[ind]\n",
    "\n",
    "y_train = [1 if y==4 else 0 for y in y_train]"
   ]
  },
  {
   "cell_type": "code",
   "execution_count": 24,
   "metadata": {},
   "outputs": [
    {
     "data": {
      "text/plain": [
       "((60000, 4079), (7600, 4079))"
      ]
     },
     "execution_count": 24,
     "metadata": {},
     "output_type": "execute_result"
    }
   ],
   "source": [
    "X_train['docs'].shape, X_test['docs'].shape"
   ]
  },
  {
   "cell_type": "code",
   "execution_count": 29,
   "metadata": {},
   "outputs": [
    {
     "data": {
      "text/plain": [
       "((60000, 4079), (7600, 4079))"
      ]
     },
     "execution_count": 29,
     "metadata": {},
     "output_type": "execute_result"
    }
   ],
   "source": [
    "X_train['docs'].shape, X_test['docs'].shape"
   ]
  },
  {
   "cell_type": "code",
   "execution_count": 144,
   "metadata": {},
   "outputs": [
    {
     "data": {
      "text/plain": [
       "array([0, 1])"
      ]
     },
     "execution_count": 144,
     "metadata": {},
     "output_type": "execute_result"
    }
   ],
   "source": [
    "np.unique(y_train)"
   ]
  },
  {
   "cell_type": "code",
   "execution_count": 180,
   "metadata": {},
   "outputs": [],
   "source": [
    "clf = sklearn.linear_model.LogisticRegression()\n",
    "clf.fit(X_train['docs'], y_train)\n",
    "\n",
    "weight = clf.coef_[0]\n",
    "words = cv.get_feature_names()\n",
    "\n",
    "sports_indices = np.argsort(weight)\n",
    "sci_indices = sports_indices[::-1]"
   ]
  },
  {
   "cell_type": "code",
   "execution_count": 182,
   "metadata": {},
   "outputs": [
    {
     "data": {
      "text/plain": [
       "array([-0.57504758,  0.54987106, -0.32878811, ...,  1.17553316,\n",
       "       -1.33223282, -0.20702039])"
      ]
     },
     "execution_count": 182,
     "metadata": {},
     "output_type": "execute_result"
    }
   ],
   "source": [
    "weight"
   ]
  },
  {
   "cell_type": "code",
   "execution_count": 26,
   "metadata": {},
   "outputs": [
    {
     "data": {
      "text/plain": [
       "array([4, 4, 3])"
      ]
     },
     "execution_count": 26,
     "metadata": {},
     "output_type": "execute_result"
    }
   ],
   "source": [
    "y_test[[1,2,3]]"
   ]
  },
  {
   "cell_type": "code",
   "execution_count": 27,
   "metadata": {},
   "outputs": [],
   "source": [
    "l = [1,2,3,4]"
   ]
  },
  {
   "cell_type": "code",
   "execution_count": 28,
   "metadata": {},
   "outputs": [
    {
     "ename": "TypeError",
     "evalue": "list indices must be integers or slices, not list",
     "output_type": "error",
     "traceback": [
      "\u001b[0;31m---------------------------------------------------------------------------\u001b[0m",
      "\u001b[0;31mTypeError\u001b[0m                                 Traceback (most recent call last)",
      "\u001b[0;32m<ipython-input-28-5ca31f614b73>\u001b[0m in \u001b[0;36m<module>\u001b[0;34m\u001b[0m\n\u001b[0;32m----> 1\u001b[0;31m \u001b[0ml\u001b[0m\u001b[0;34m[\u001b[0m\u001b[0;34m[\u001b[0m\u001b[0;36m0\u001b[0m\u001b[0;34m,\u001b[0m\u001b[0;36m2\u001b[0m\u001b[0;34m]\u001b[0m\u001b[0;34m]\u001b[0m\u001b[0;34m\u001b[0m\u001b[0;34m\u001b[0m\u001b[0m\n\u001b[0m",
      "\u001b[0;31mTypeError\u001b[0m: list indices must be integers or slices, not list"
     ]
    }
   ],
   "source": [
    "l[[0,2]]"
   ]
  },
  {
   "cell_type": "markdown",
   "metadata": {},
   "source": [
    "## sports_sci/tech\n",
    "\n",
    "Default sports:0 sci/tech:1"
   ]
  },
  {
   "cell_type": "code",
   "execution_count": 185,
   "metadata": {},
   "outputs": [
    {
     "name": "stdout",
     "output_type": "stream",
     "text": [
      "---------- 300 KEYWORD ASSOCIATED WITH [Sci-tech and sports] CATEGORY\n",
      "\tSci/tech            \t\tSports              \n",
      "001\tspace               \t3.713\tcup                 \t-3.325\n",
      "002\tsoftware            \t3.325\tstadium             \t-3.073\n",
      "003\tscientists          \t3.203\tcoach               \t-3.036\n",
      "004\ttechnology          \t3.158\tmanchester          \t-2.956\n",
      "005\tmicrosoft           \t2.998\tcricket             \t-2.919\n",
      "006\tnasa                \t2.810\tnascar              \t-2.767\n",
      "007\tinternet            \t2.732\tnba                 \t-2.713\n",
      "008\tcomputer            \t2.571\tolympic             \t-2.698\n",
      "009\tresearchers         \t2.550\tquarterback         \t-2.651\n",
      "010\tvideo               \t2.539\tsox                 \t-2.651\n",
      "011\tcompanies           \t2.407\tnhl                 \t-2.610\n",
      "012\tmusic               \t2.379\tformula             \t-2.599\n",
      "013\tintel               \t2.288\tolympics            \t-2.595\n",
      "014\twireless            \t2.214\tteams               \t-2.485\n",
      "015\tevolution           \t2.209\tsports              \t-2.461\n",
      "016\tearth               \t2.184\tmiami               \t-2.422\n",
      "017\tapple               \t2.141\tathletic            \t-2.417\n",
      "018\tstudy               \t2.115\tyankees             \t-2.415\n",
      "019\tscience             \t2.112\tfootball            \t-2.414\n",
      "020\telectronic          \t2.098\tbaseball            \t-2.390\n",
      "021\tonline              \t2.097\tleague              \t-2.323\n",
      "022\tastronauts          \t2.085\tprix                \t-2.315\n",
      "023\tmars                \t2.071\tauburn              \t-2.271\n",
      "024\tscientific          \t2.066\tchampion            \t-2.235\n",
      "025\texperts             \t2.061\tbowl                \t-2.234\n",
      "026\tceo                 \t2.044\ttennis              \t-2.203\n",
      "027\tresearch            \t2.040\tclub                \t-2.190\n",
      "028\tlinux               \t2.030\twoods               \t-2.187\n",
      "029\thelens              \t1.989\tathens              \t-2.165\n",
      "030\tweb                 \t1.979\tbasketball          \t-2.142\n",
      "031\tphones              \t1.964\tford                \t-2.081\n",
      "032\tnetworks            \t1.960\tbryant              \t-2.076\n",
      "033\tcode                \t1.940\tpatriots            \t-2.069\n",
      "034\tspam                \t1.924\texpos               \t-2.060\n",
      "035\tbirds               \t1.911\tkobe                \t-2.041\n",
      "036\txbox                \t1.907\toffense             \t-2.034\n",
      "037\tspecies             \t1.905\tboxing              \t-1.995\n",
      "038\tdiscovered          \t1.900\tpitcher             \t-1.993\n",
      "039\tcustomers           \t1.898\tdoping              \t-1.990\n",
      "040\tibm                 \t1.897\thockey              \t-1.974\n",
      "041\tpeoplesoft          \t1.895\tmadrid              \t-1.905\n",
      "042\tipod                \t1.883\tbonds               \t-1.890\n",
      "043\tlaunch              \t1.882\toffensive           \t-1.884\n",
      "044\tmoon                \t1.879\tsoccer              \t-1.878\n",
      "045\tnintendo            \t1.815\tcoaches             \t-1.868\n",
      "046\tdvd                 \t1.801\tteam                \t-1.844\n",
      "047\tmarket              \t1.785\tjersey              \t-1.816\n",
      "048\tastronomers         \t1.784\tvictory             \t-1.789\n",
      "049\tebay                \t1.757\tcrude               \t-1.769\n",
      "050\tsupercomputer       \t1.711\tphiladelphia        \t-1.767\n",
      "051\tborn                \t1.707\tmanager             \t-1.767\n",
      "052\tpresidential        \t1.699\twilliams            \t-1.748\n",
      "053\tuk                  \t1.694\tsport               \t-1.741\n",
      "054\tscientist           \t1.664\tseason              \t-1.737\n",
      "055\tclimate             \t1.632\tredskins            \t-1.733\n",
      "056\trocket              \t1.627\tmets                \t-1.730\n",
      "057\tindustry            \t1.625\tnfl                 \t-1.719\n",
      "058\tspaceshipone        \t1.614\tchampionship        \t-1.714\n",
      "059\tsystem              \t1.611\tbarry               \t-1.707\n",
      "060\tservers             \t1.601\tstriker             \t-1.699\n",
      "061\tpc                  \t1.596\ttournament          \t-1.678\n",
      "062\tgoogle              \t1.585\tcollege             \t-1.678\n",
      "063\tmount               \t1.582\tarsenal             \t-1.651\n",
      "064\tcompany             \t1.568\tathletics           \t-1.645\n",
      "065\tinc                 \t1.560\tyards               \t-1.634\n",
      "066\tdigital             \t1.557\tsunday              \t-1.633\n",
      "067\tusers               \t1.557\tncaa                \t-1.617\n",
      "068\thalo                \t1.554\tplayoff             \t-1.608\n",
      "069\tdefinition          \t1.545\tgolf                \t-1.605\n",
      "070\tsky                 \t1.525\tsaturday            \t-1.572\n",
      "071\twilliam             \t1.502\ttour                \t-1.571\n",
      "072\twashingtonpost      \t1.498\tticker              \t-1.567\n",
      "073\ttechnologies        \t1.494\tanthony             \t-1.552\n",
      "074\thuman               \t1.493\tracing              \t-1.544\n",
      "075\tservices            \t1.486\tcleveland           \t-1.527\n",
      "076\tdoctors             \t1.483\tsingh               \t-1.524\n",
      "077\tauto                \t1.479\ttrophy              \t-1.524\n",
      "078\thealth              \t1.433\theavyweight         \t-1.521\n",
      "079\tx                   \t1.432\tcoaching            \t-1.503\n",
      "080\tdesign              \t1.427\tplayers             \t-1.498\n",
      "081\tchip                \t1.424\tteammates           \t-1.497\n",
      "082\ttheft               \t1.417\tcubs                \t-1.494\n",
      "083\tdell                \t1.415\tpoints              \t-1.493\n",
      "084\tnobel               \t1.411\thall                \t-1.491\n",
      "085\tcyber               \t1.408\tjeff                \t-1.488\n",
      "086\tinfrastructure      \t1.390\tchelsea             \t-1.476\n",
      "087\tsony                \t1.389\tball                \t-1.468\n",
      "088\tkennedy             \t1.383\tmarathon            \t-1.468\n",
      "089\tdevice              \t1.381\tgymnastics          \t-1.464\n",
      "090\tsearch              \t1.376\trugby               \t-1.457\n",
      "091\tsurvey              \t1.376\tguard               \t-1.453\n",
      "092\tendangered          \t1.368\tricky               \t-1.442\n",
      "093\tmuseum              \t1.361\torleans             \t-1.439\n",
      "094\toracle              \t1.356\tmiller              \t-1.432\n",
      "095\tgates               \t1.354\tmatch               \t-1.425\n",
      "096\tcell                \t1.352\tgary                \t-1.425\n",
      "097\tgaming              \t1.336\ttigers              \t-1.415\n",
      "098\tship                \t1.335\tpostseason          \t-1.401\n",
      "099\treview              \t1.327\tbrawl               \t-1.387\n",
      "100\tpopular             \t1.325\tafternoon           \t-1.387\n",
      "101\tversion             \t1.324\tdiego               \t-1.376\n",
      "102\tspacecraft          \t1.317\tliverpool           \t-1.375\n",
      "103\tpolitics            \t1.317\tknicks              \t-1.374\n",
      "104\tmicro               \t1.312\tpremiership         \t-1.370\n",
      "105\thumans              \t1.312\tfield               \t-1.366\n",
      "106\tfirefox             \t1.310\tgiants              \t-1.358\n",
      "107\twrites              \t1.306\tchampionships       \t-1.358\n",
      "108\tdevices             \t1.301\tchampions           \t-1.358\n",
      "109\tscreen              \t1.301\tdodgers             \t-1.347\n",
      "110\tvirgin              \t1.300\tplayer              \t-1.342\n",
      "111\tdata                \t1.298\tnotre               \t-1.340\n",
      "112\texecutives          \t1.297\tpreseason           \t-1.339\n",
      "113\tfi                  \t1.296\tdame                \t-1.335\n",
      "114\twired               \t1.292\tpedro               \t-1.334\n",
      "115\tpcs                 \t1.291\tadrian              \t-1.334\n",
      "116\tsource              \t1.264\tfinished            \t-1.333\n",
      "117\tplaystation         \t1.264\tzimbabwe            \t-1.332\n",
      "118\tbuying              \t1.263\topponent            \t-1.323\n",
      "119\tbillion             \t1.262\tfederer             \t-1.322\n",
      "120\tvendor              \t1.260\tny                  \t-1.316\n",
      "121\tmp3                 \t1.257\trookie              \t-1.298\n",
      "122\tarticle             \t1.256\tusually             \t-1.296\n",
      "123\tbroadband           \t1.254\tchad                \t-1.295\n",
      "124\tformat              \t1.252\tgoal                \t-1.289\n",
      "125\te                   \t1.251\tzealand             \t-1.282\n",
      "126\tshopping            \t1.247\toutfielder          \t-1.281\n",
      "127\tfeatures            \t1.247\tsigning             \t-1.276\n",
      "128\twildlife            \t1.246\tpositive            \t-1.274\n",
      "129\tprocessor           \t1.246\tbr                  \t-1.269\n",
      "130\tcopy                \t1.242\twin                 \t-1.265\n",
      "131\tenterprise          \t1.241\tdefense             \t-1.263\n",
      "132\tsilicon             \t1.239\tboston              \t-1.262\n",
      "133\t1990s               \t1.237\toakland             \t-1.262\n",
      "134\tconsumer            \t1.230\tnets                \t-1.257\n",
      "135\tdna                 \t1.230\thamm                \t-1.255\n",
      "136\tasia                \t1.229\tdefensive           \t-1.250\n",
      "137\tmurder              \t1.228\treceiver            \t-1.250\n",
      "138\thp                  \t1.224\tdefeat              \t-1.249\n",
      "139\tbird                \t1.219\tspeedway            \t-1.239\n",
      "140\tamazon              \t1.218\tpacers              \t-1.235\n",
      "141\tgenesis             \t1.216\trace                \t-1.231\n",
      "142\twindows             \t1.216\tanaheim             \t-1.229\n",
      "143\tvirus               \t1.214\tcharlotte           \t-1.227\n",
      "144\teditor              \t1.213\tplayed              \t-1.226\n",
      "145\tnuclear             \t1.213\tcommissioner        \t-1.199\n",
      "146\tlt                  \t1.207\tpitch               \t-1.198\n",
      "147\tviruses             \t1.205\tinnings             \t-1.190\n",
      "148\tdepartment          \t1.199\tmeters              \t-1.185\n",
      "149\tbigley              \t1.195\tjoe                 \t-1.185\n",
      "150\tsystems             \t1.192\traces               \t-1.185\n",
      "151\tnokia               \t1.186\tpaula               \t-1.183\n",
      "152\tservice             \t1.185\tmedal               \t-1.181\n",
      "153\tlargest             \t1.184\tmaria               \t-1.180\n",
      "154\tengineer            \t1.181\tfreshman            \t-1.180\n",
      "155\twi                  \t1.180\tplay                \t-1.178\n",
      "156\tupcoming            \t1.180\tinjury              \t-1.174\n",
      "157\ttropical            \t1.179\tangels              \t-1.172\n",
      "158\tsa                  \t1.178\tyankee              \t-1.164\n",
      "159\tindependent         \t1.176\tagent               \t-1.163\n",
      "160\tziff                \t1.176\tpga                 \t-1.162\n",
      "161\tweapons             \t1.174\tespn                \t-1.161\n",
      "162\tregion              \t1.172\tmarion              \t-1.156\n",
      "163\tun                  \t1.171\ttoronto             \t-1.150\n",
      "164\tsatellite           \t1.167\tjustin              \t-1.148\n",
      "165\tcontrols            \t1.161\tjacksonville        \t-1.145\n",
      "166\tmayor               \t1.157\tlakers              \t-1.144\n",
      "167\tstation             \t1.155\tcincinnati          \t-1.141\n",
      "168\tsuggest             \t1.154\tcarter              \t-1.139\n",
      "169\thardware            \t1.151\tyesterday           \t-1.139\n",
      "170\thurricane           \t1.150\tdavid               \t-1.138\n",
      "171\tdivided             \t1.149\tdemanding           \t-1.134\n",
      "172\ttelescope           \t1.148\twinner              \t-1.134\n",
      "173\tjava                \t1.142\tchiefs              \t-1.133\n",
      "174\tplant               \t1.142\tpakistan            \t-1.131\n",
      "175\tbrowser             \t1.142\tglazer              \t-1.131\n",
      "176\tmicrosystems        \t1.141\tmilan               \t-1.130\n",
      "177\tgovernment          \t1.140\tchances             \t-1.128\n",
      "178\tcriminal            \t1.130\tjr                  \t-1.125\n",
      "179\tstudios             \t1.127\tcowboys             \t-1.122\n",
      "180\tpassengers          \t1.127\tantonio             \t-1.122\n",
      "181\tstrategy            \t1.126\tsmith               \t-1.118\n",
      "182\twaves               \t1.125\ttouchdown           \t-1.115\n",
      "183\tsolar               \t1.125\tstretch             \t-1.114\n",
      "184\tbusinesses          \t1.121\twayne               \t-1.109\n",
      "185\tplants              \t1.120\tscotland            \t-1.108\n",
      "186\tglobal              \t1.118\tbreaking            \t-1.107\n",
      "187\tdesktop             \t1.118\travens              \t-1.104\n",
      "188\tcopyright           \t1.116\tranked              \t-1.103\n",
      "189\tmalicious           \t1.115\tjames               \t-1.101\n",
      "190\tislands             \t1.113\tsteroids            \t-1.095\n",
      "191\tshows               \t1.112\tseasons             \t-1.092\n",
      "192\thomes               \t1.104\tindianapolis        \t-1.086\n",
      "193\trock                \t1.103\tschilling           \t-1.081\n",
      "194\tmission             \t1.101\tnight               \t-1.080\n",
      "195\tbranson             \t1.094\tmotor               \t-1.079\n",
      "196\tsecurity            \t1.094\tcontract            \t-1.073\n",
      "197\tgt                  \t1.090\topen                \t-1.069\n",
      "198\taccount             \t1.090\tarena               \t-1.069\n",
      "199\tcountries           \t1.089\tcurt                \t-1.066\n",
      "200\tmaterial            \t1.082\tmaybe               \t-1.066\n",
      "201\tlinks               \t1.077\trafael              \t-1.065\n",
      "202\tcorp                \t1.074\tdiamondbacks        \t-1.062\n",
      "203\tgear                \t1.072\tharry               \t-1.061\n",
      "204\tresponsible         \t1.071\tlleyton             \t-1.060\n",
      "205\tadvance             \t1.067\tbobby               \t-1.058\n",
      "206\tcapsule             \t1.066\thitting             \t-1.054\n",
      "207\ttools               \t1.065\thewitt              \t-1.050\n",
      "208\tchipmaker           \t1.064\tmidfielder          \t-1.050\n",
      "209\tworkers             \t1.063\tcarolina            \t-1.048\n",
      "210\tstorage             \t1.062\troster              \t-1.043\n",
      "211\taol                 \t1.060\tatlanta             \t-1.038\n",
      "212\tarctic              \t1.054\tcamp                \t-1.035\n",
      "213\thouse               \t1.047\thorse               \t-1.032\n",
      "214\tofficially          \t1.042\tabuse               \t-1.032\n",
      "215\tidea                \t1.041\tweekend             \t-1.028\n",
      "216\titunes              \t1.040\tfinals              \t-1.027\n",
      "217\tenvironmental       \t1.039\tshot                \t-1.026\n",
      "218\trequire             \t1.036\tde                  \t-1.023\n",
      "219\tpopulation          \t1.036\tstood               \t-1.019\n",
      "220\tengine              \t1.036\t63                  \t-1.016\n",
      "221\tfilm                \t1.032\thanded              \t-1.015\n",
      "222\tmobile              \t1.032\teagles              \t-1.013\n",
      "223\t3g                  \t1.027\tnewcastle           \t-1.013\n",
      "224\tinstruments         \t1.025\tmontreal            \t-1.012\n",
      "225\tattacks             \t1.023\ttim                 \t-1.008\n",
      "226\tpeak                \t1.022\tcaptain             \t-1.005\n",
      "227\tearthquake          \t1.021\tguy                 \t-1.002\n",
      "228\tspammers            \t1.020\the                  \t-0.994\n",
      "229\tconsumers           \t1.019\tbeat                \t-0.993\n",
      "230\tapplication         \t1.018\tbroke               \t-0.991\n",
      "231\tfemale              \t1.016\tcareer              \t-0.991\n",
      "232\twithin              \t1.015\teverton             \t-0.991\n",
      "233\tlaptop              \t1.015\ttrafford            \t-0.988\n",
      "234\tnet                 \t1.012\tpatrick             \t-0.987\n",
      "235\tpriority            \t1.012\tcrowd               \t-0.986\n",
      "236\tinformation         \t1.012\tsituation           \t-0.983\n",
      "237\tcomputers           \t1.012\troddick             \t-0.982\n",
      "238\texplorer            \t1.008\ttwins               \t-0.982\n",
      "239\tonto                \t1.005\t2006                \t-0.980\n",
      "240\tmozilla             \t1.005\tlinebacker          \t-0.979\n",
      "241\tflight              \t1.004\ttiger               \t-0.978\n",
      "242\toffice              \t1.003\tcolin               \t-0.972\n",
      "243\tgiant               \t1.003\tels                 \t-0.970\n",
      "244\trecorded            \t1.002\tcbc                 \t-0.970\n",
      "245\tprotocol            \t1.002\tschedule            \t-0.969\n",
      "246\tdisease             \t1.001\tmasters             \t-0.968\n",
      "247\tbush                \t0.999\tround               \t-0.965\n",
      "248\tneck                \t0.999\tboss                \t-0.965\n",
      "249\tpalmone             \t0.999\tbaseman             \t-0.959\n",
      "250\tlove                \t0.998\tmedals              \t-0.955\n",
      "251\treports             \t0.995\tathletes            \t-0.948\n",
      "252\tjobs                \t0.995\tseahawks            \t-0.945\n",
      "253\tprotection          \t0.994\tmichigan            \t-0.944\n",
      "254\tprize               \t0.992\tcircuit             \t-0.943\n",
      "255\tsites               \t0.991\tvictories           \t-0.943\n",
      "256\taccess              \t0.990\trich                \t-0.941\n",
      "257\tprices              \t0.990\tdefender            \t-0.940\n",
      "258\tvictim              \t0.989\tgoverning           \t-0.940\n",
      "259\tdeveloper           \t0.981\twinning             \t-0.940\n",
      "260\tthanks              \t0.981\teve                 \t-0.940\n",
      "261\tsolution            \t0.980\tphilippines         \t-0.938\n",
      "262\tproduct             \t0.980\tdivision            \t-0.935\n",
      "263\tnorthern            \t0.979\teasy                \t-0.926\n",
      "264\tportable            \t0.979\troger               \t-0.926\n",
      "265\tassociated          \t0.978\tbraves              \t-0.925\n",
      "266\tproducts            \t0.978\tmunich              \t-0.925\n",
      "267\tdevelopers          \t0.973\trape                \t-0.924\n",
      "268\tgraphics            \t0.971\tknee                \t-0.924\n",
      "269\tcamera              \t0.970\tcleared             \t-0.921\n",
      "270\tsite                \t0.967\t85                  \t-0.920\n",
      "271\toutsourcing         \t0.959\trockets             \t-0.919\n",
      "272\tconsole             \t0.959\tmanning             \t-0.918\n",
      "273\tperson              \t0.956\tjim                 \t-0.917\n",
      "274\tsolutions           \t0.952\tteammate            \t-0.917\n",
      "275\tamd                 \t0.951\tengland             \t-0.912\n",
      "276\tcisco               \t0.951\tdraw                \t-0.911\n",
      "277\tflat                \t0.951\tgraeme              \t-0.910\n",
      "278\tlawsuits            \t0.950\ttest                \t-0.908\n",
      "279\tcontractor          \t0.950\tron                 \t-0.905\n",
      "280\tcold                \t0.949\tdallas              \t-0.905\n",
      "281\tyahoo               \t0.943\toklahoma            \t-0.904\n",
      "282\tapparent            \t0.942\tbob                 \t-0.903\n",
      "283\tsanta               \t0.941\tmalcolm             \t-0.901\n",
      "284\tmodels              \t0.940\tconvoy              \t-0.900\n",
      "285\thurricanes          \t0.938\tderek               \t-0.898\n",
      "286\tworldwide           \t0.937\tyork                \t-0.897\n",
      "287\tcom                 \t0.932\tpackers             \t-0.896\n",
      "288\twitness             \t0.931\tmatches             \t-0.895\n",
      "289\tvaccine             \t0.931\tandy                \t-0.895\n",
      "290\tpentagon            \t0.931\tuefa                \t-0.895\n",
      "291\tevidence            \t0.926\tjets                \t-0.894\n",
      "292\tgroup               \t0.926\tretirement          \t-0.891\n",
      "293\tvoters              \t0.924\tkilled              \t-0.890\n",
      "294\tstem                \t0.922\tjackson             \t-0.889\n",
      "295\tventure             \t0.921\this                 \t-0.888\n",
      "296\tclaims              \t0.920\tsign                \t-0.887\n",
      "297\ttrip                \t0.920\tshanghai            \t-0.887\n",
      "298\tplus                \t0.920\tbrazilian           \t-0.887\n",
      "299\tcarrier             \t0.919\tconnecticut         \t-0.882\n",
      "300\t2007                \t0.919\tqualifying          \t-0.880\n"
     ]
    }
   ],
   "source": [
    "threshold = 300\n",
    "k_sci = []\n",
    "k_sports = []\n",
    "w_sci = []\n",
    "w_sports = []\n",
    "\n",
    "print('-'*10,'{} KEYWORD ASSOCIATED WITH [Sci-tech and sports] CATEGORY'.format(threshold))\n",
    "print('\\t{:<20}\\t\\t{:<20}'.format('Sci/tech', 'Sports'))\n",
    "for i, (sci, sports) in enumerate(zip(sci_indices[:threshold], sports_indices[:threshold])):\n",
    "    print('{:03d}\\t{:<20}\\t{:.3f}\\t{:<20}\\t{:.3f}'.format(i+1, \n",
    "                                                          words[sci], \n",
    "                                                          weight[sci], \n",
    "                                                          words[sports], \n",
    "                                                          weight[sports]))\n",
    "    k_sci.append(words[sci])\n",
    "    k_sports.append(words[sports])\n",
    "    w_sci.append(weight[sci])\n",
    "    w_sports.append(weight[sports])\n",
    "\n",
    "scisport_df = pd.DataFrame({'sci/tech_k':k_sci, \n",
    "                            'sci/tech_w':w_sci,\n",
    "                            'sports_k':k_sports, \n",
    "                            'sports_w':w_sports})"
   ]
  },
  {
   "cell_type": "code",
   "execution_count": 187,
   "metadata": {},
   "outputs": [
    {
     "data": {
      "text/html": [
       "<div>\n",
       "<style scoped>\n",
       "    .dataframe tbody tr th:only-of-type {\n",
       "        vertical-align: middle;\n",
       "    }\n",
       "\n",
       "    .dataframe tbody tr th {\n",
       "        vertical-align: top;\n",
       "    }\n",
       "\n",
       "    .dataframe thead th {\n",
       "        text-align: right;\n",
       "    }\n",
       "</style>\n",
       "<table border=\"1\" class=\"dataframe\">\n",
       "  <thead>\n",
       "    <tr style=\"text-align: right;\">\n",
       "      <th></th>\n",
       "      <th>sci/tech_k</th>\n",
       "      <th>sci/tech_w</th>\n",
       "      <th>sports_k</th>\n",
       "      <th>sports_w</th>\n",
       "    </tr>\n",
       "  </thead>\n",
       "  <tbody>\n",
       "    <tr>\n",
       "      <th>0</th>\n",
       "      <td>space</td>\n",
       "      <td>3.712768</td>\n",
       "      <td>cup</td>\n",
       "      <td>-3.324867</td>\n",
       "    </tr>\n",
       "    <tr>\n",
       "      <th>1</th>\n",
       "      <td>software</td>\n",
       "      <td>3.325036</td>\n",
       "      <td>stadium</td>\n",
       "      <td>-3.073258</td>\n",
       "    </tr>\n",
       "    <tr>\n",
       "      <th>2</th>\n",
       "      <td>scientists</td>\n",
       "      <td>3.202850</td>\n",
       "      <td>coach</td>\n",
       "      <td>-3.035763</td>\n",
       "    </tr>\n",
       "    <tr>\n",
       "      <th>3</th>\n",
       "      <td>technology</td>\n",
       "      <td>3.157868</td>\n",
       "      <td>manchester</td>\n",
       "      <td>-2.955539</td>\n",
       "    </tr>\n",
       "    <tr>\n",
       "      <th>4</th>\n",
       "      <td>microsoft</td>\n",
       "      <td>2.997683</td>\n",
       "      <td>cricket</td>\n",
       "      <td>-2.918928</td>\n",
       "    </tr>\n",
       "  </tbody>\n",
       "</table>\n",
       "</div>"
      ],
      "text/plain": [
       "   sci/tech_k  sci/tech_w    sports_k  sports_w\n",
       "0       space    3.712768         cup -3.324867\n",
       "1    software    3.325036     stadium -3.073258\n",
       "2  scientists    3.202850       coach -3.035763\n",
       "3  technology    3.157868  manchester -2.955539\n",
       "4   microsoft    2.997683     cricket -2.918928"
      ]
     },
     "execution_count": 187,
     "metadata": {},
     "output_type": "execute_result"
    }
   ],
   "source": [
    "scisport_df.head()"
   ]
  },
  {
   "cell_type": "code",
   "execution_count": 188,
   "metadata": {},
   "outputs": [
    {
     "data": {
      "text/html": [
       "<div>\n",
       "<style scoped>\n",
       "    .dataframe tbody tr th:only-of-type {\n",
       "        vertical-align: middle;\n",
       "    }\n",
       "\n",
       "    .dataframe tbody tr th {\n",
       "        vertical-align: top;\n",
       "    }\n",
       "\n",
       "    .dataframe thead th {\n",
       "        text-align: right;\n",
       "    }\n",
       "</style>\n",
       "<table border=\"1\" class=\"dataframe\">\n",
       "  <thead>\n",
       "    <tr style=\"text-align: right;\">\n",
       "      <th></th>\n",
       "      <th>sci/tech_w</th>\n",
       "      <th>sports_w</th>\n",
       "    </tr>\n",
       "  </thead>\n",
       "  <tbody>\n",
       "    <tr>\n",
       "      <th>count</th>\n",
       "      <td>300.000000</td>\n",
       "      <td>300.000000</td>\n",
       "    </tr>\n",
       "    <tr>\n",
       "      <th>mean</th>\n",
       "      <td>1.342908</td>\n",
       "      <td>-1.364206</td>\n",
       "    </tr>\n",
       "    <tr>\n",
       "      <th>std</th>\n",
       "      <td>0.457344</td>\n",
       "      <td>0.492764</td>\n",
       "    </tr>\n",
       "    <tr>\n",
       "      <th>min</th>\n",
       "      <td>0.918528</td>\n",
       "      <td>-3.324867</td>\n",
       "    </tr>\n",
       "    <tr>\n",
       "      <th>25%</th>\n",
       "      <td>1.022970</td>\n",
       "      <td>-1.524706</td>\n",
       "    </tr>\n",
       "    <tr>\n",
       "      <th>50%</th>\n",
       "      <td>1.188776</td>\n",
       "      <td>-1.183992</td>\n",
       "    </tr>\n",
       "    <tr>\n",
       "      <th>75%</th>\n",
       "      <td>1.483649</td>\n",
       "      <td>-1.007020</td>\n",
       "    </tr>\n",
       "    <tr>\n",
       "      <th>max</th>\n",
       "      <td>3.712768</td>\n",
       "      <td>-0.879796</td>\n",
       "    </tr>\n",
       "  </tbody>\n",
       "</table>\n",
       "</div>"
      ],
      "text/plain": [
       "       sci/tech_w    sports_w\n",
       "count  300.000000  300.000000\n",
       "mean     1.342908   -1.364206\n",
       "std      0.457344    0.492764\n",
       "min      0.918528   -3.324867\n",
       "25%      1.022970   -1.524706\n",
       "50%      1.188776   -1.183992\n",
       "75%      1.483649   -1.007020\n",
       "max      3.712768   -0.879796"
      ]
     },
     "execution_count": 188,
     "metadata": {},
     "output_type": "execute_result"
    }
   ],
   "source": [
    "scisport_df.describe()"
   ]
  },
  {
   "cell_type": "code",
   "execution_count": null,
   "metadata": {},
   "outputs": [],
   "source": [
    "# TODO : Visualize using word2vec (pre-trained)"
   ]
  },
  {
   "cell_type": "markdown",
   "metadata": {},
   "source": [
    "# 1 world vs rest"
   ]
  },
  {
   "cell_type": "code",
   "execution_count": 26,
   "metadata": {},
   "outputs": [],
   "source": [
    "clf = sklearn.linear_model.LogisticRegression()\n",
    "clf.fit(X_train['docs'], y_1_world)\n",
    "\n",
    "weight = clf.coef_[0]\n",
    "words = cv.get_feature_names()\n",
    "\n",
    "indices = np.argsort(weight)[::-1]"
   ]
  },
  {
   "cell_type": "code",
   "execution_count": 27,
   "metadata": {},
   "outputs": [
    {
     "name": "stdout",
     "output_type": "stream",
     "text": [
      "---------- 100 KEYWORD ASSOCIATED WITH [WORLD] CATEGORY\n",
      "kashmir \t\t 2.931\n",
      "arafat \t\t 2.912\n",
      "darfur \t\t 2.772\n",
      "afp \t\t 2.633\n",
      "palestinian \t\t 2.426\n",
      "palestinians \t\t 2.34\n",
      "hostages \t\t 2.332\n",
      "nepal \t\t 2.321\n",
      "prince \t\t 2.295\n",
      "hostage \t\t 2.275\n",
      "crimes \t\t 2.264\n",
      "militants \t\t 2.229\n",
      "nuclear \t\t 2.172\n",
      "afghanistan \t\t 2.169\n",
      "p \t\t 2.133\n",
      "muslims \t\t 2.133\n",
      "beslan \t\t 2.121\n",
      "separatist \t\t 2.088\n",
      "troops \t\t 2.011\n",
      "iraqis \t\t 1.985\n",
      "fallujah \t\t 1.939\n",
      "greece \t\t 1.939\n",
      "sadr \t\t 1.918\n",
      "baghdad \t\t 1.9\n",
      "rebels \t\t 1.895\n",
      "guantanamo \t\t 1.893\n",
      "shrine \t\t 1.876\n",
      "muslim \t\t 1.875\n",
      "cuba \t\t 1.851\n",
      "democracy \t\t 1.818\n",
      "falluja \t\t 1.81\n",
      "bombing \t\t 1.786\n",
      "saddam \t\t 1.782\n",
      "lebanon \t\t 1.781\n",
      "libya \t\t 1.774\n",
      "israel \t\t 1.772\n",
      "haiti \t\t 1.771\n",
      "hassan \t\t 1.765\n",
      "peace \t\t 1.759\n",
      "iraqi \t\t 1.754\n",
      "terrorism \t\t 1.753\n",
      "elections \t\t 1.748\n",
      "typhoon \t\t 1.732\n",
      "kabul \t\t 1.731\n",
      "church \t\t 1.729\n",
      "abu \t\t 1.726\n",
      "refugees \t\t 1.718\n",
      "democrats \t\t 1.7\n",
      "sudan \t\t 1.688\n",
      "corruption \t\t 1.678\n",
      "indonesia \t\t 1.673\n",
      "iraq \t\t 1.67\n",
      "un \t\t 1.657\n",
      "embassy \t\t 1.657\n",
      "king \t\t 1.656\n",
      "islamabad \t\t 1.652\n",
      "military \t\t 1.647\n",
      "commander \t\t 1.642\n",
      "blair \t\t 1.628\n",
      "myanmar \t\t 1.622\n",
      "iran \t\t 1.611\n",
      "humanitarian \t\t 1.61\n",
      "chechnya \t\t 1.605\n",
      "mph \t\t 1.601\n",
      "turkey \t\t 1.6\n",
      "parliament \t\t 1.559\n",
      "explosives \t\t 1.553\n",
      "afghan \t\t 1.548\n",
      "palace \t\t 1.53\n",
      "murder \t\t 1.529\n",
      "taiwan \t\t 1.526\n",
      "qaida \t\t 1.52\n",
      "chechen \t\t 1.511\n",
      "settlements \t\t 1.508\n",
      "democrat \t\t 1.501\n",
      "anniversary \t\t 1.498\n",
      "insurgency \t\t 1.493\n",
      "flu \t\t 1.459\n",
      "islamic \t\t 1.457\n",
      "peacekeepers \t\t 1.454\n",
      "army \t\t 1.448\n",
      "ambassador \t\t 1.447\n",
      "hamas \t\t 1.44\n",
      "jailed \t\t 1.433\n",
      "ukraine \t\t 1.426\n",
      "museum \t\t 1.42\n",
      "soldiers \t\t 1.415\n",
      "abbas \t\t 1.405\n",
      "sharon \t\t 1.395\n",
      "canadian \t\t 1.394\n",
      "guerrillas \t\t 1.388\n",
      "arab \t\t 1.375\n",
      "explosions \t\t 1.37\n",
      "village \t\t 1.366\n",
      "equatorial \t\t 1.351\n",
      "khartoum \t\t 1.346\n",
      "train \t\t 1.341\n",
      "coup \t\t 1.339\n",
      "jerusalem \t\t 1.338\n",
      "ethnic \t\t 1.337\n"
     ]
    }
   ],
   "source": [
    "print('-'*10,'100 KEYWORD ASSOCIATED WITH [WORLD] CATEGORY')\n",
    "for i in indices[:100]:\n",
    "    print('{} \\t\\t {}'.format(words[i], np.around(weight[i], 3)))"
   ]
  },
  {
   "cell_type": "markdown",
   "metadata": {},
   "source": [
    "# 2 Sports VS Rest"
   ]
  },
  {
   "cell_type": "code",
   "execution_count": 29,
   "metadata": {},
   "outputs": [
    {
     "name": "stderr",
     "output_type": "stream",
     "text": [
      "/usr/local/lib/python3.6/dist-packages/sklearn/linear_model/logistic.py:432: FutureWarning: Default solver will be changed to 'lbfgs' in 0.22. Specify a solver to silence this warning.\n",
      "  FutureWarning)\n"
     ]
    }
   ],
   "source": [
    "clf = sklearn.linear_model.LogisticRegression()\n",
    "clf.fit(X_train['docs'], y_2_sports)\n",
    "\n",
    "weight = clf.coef_[0]\n",
    "words = cv.get_feature_names()\n",
    "\n",
    "indices = np.argsort(weight)[::-1]"
   ]
  },
  {
   "cell_type": "code",
   "execution_count": 31,
   "metadata": {},
   "outputs": [
    {
     "name": "stdout",
     "output_type": "stream",
     "text": [
      "---------- 100 KEYWORD ASSOCIATED WITH [SPORTS] CATEGORY\n",
      "nascar \t\t 4.063\n",
      "cricket \t\t 3.261\n",
      "auburn \t\t 3.042\n",
      "nhl \t\t 2.95\n",
      "teams \t\t 2.839\n",
      "cup \t\t 2.807\n",
      "boxing \t\t 2.77\n",
      "redskins \t\t 2.72\n",
      "kobe \t\t 2.65\n",
      "sports \t\t 2.635\n",
      "formula \t\t 2.586\n",
      "coaches \t\t 2.513\n",
      "nba \t\t 2.499\n",
      "ncaa \t\t 2.464\n",
      "athletic \t\t 2.461\n",
      "coach \t\t 2.459\n",
      "baseball \t\t 2.406\n",
      "pitcher \t\t 2.402\n",
      "rugby \t\t 2.372\n",
      "coaching \t\t 2.359\n",
      "bowl \t\t 2.355\n",
      "olympics \t\t 2.313\n",
      "prix \t\t 2.291\n",
      "ticker \t\t 2.285\n",
      "mets \t\t 2.278\n",
      "football \t\t 2.239\n",
      "orleans \t\t 2.231\n",
      "doping \t\t 2.229\n",
      "stadium \t\t 2.219\n",
      "cleveland \t\t 2.214\n",
      "jersey \t\t 2.186\n",
      "quarterback \t\t 2.16\n",
      "sox \t\t 2.121\n",
      "tennis \t\t 2.115\n",
      "nfl \t\t 2.113\n",
      "basketball \t\t 2.109\n",
      "knicks \t\t 2.104\n",
      "expos \t\t 2.066\n",
      "br \t\t 2.046\n",
      "manchester \t\t 2.015\n",
      "soccer \t\t 1.988\n",
      "squad \t\t 1.982\n",
      "outfielder \t\t 1.974\n",
      "olympic \t\t 1.974\n",
      "bryant \t\t 1.971\n",
      "linebacker \t\t 1.928\n",
      "arena \t\t 1.927\n",
      "philadelphia \t\t 1.912\n",
      "heavyweight \t\t 1.903\n",
      "speedway \t\t 1.879\n",
      "college \t\t 1.873\n",
      "striker \t\t 1.868\n",
      "patriots \t\t 1.84\n",
      "espn \t\t 1.836\n",
      "offensive \t\t 1.825\n",
      "lakers \t\t 1.799\n",
      "racing \t\t 1.784\n",
      "anaheim \t\t 1.777\n",
      "manager \t\t 1.771\n",
      "roster \t\t 1.77\n",
      "eagles \t\t 1.755\n",
      "player \t\t 1.753\n",
      "pacers \t\t 1.734\n",
      "sport \t\t 1.715\n",
      "preseason \t\t 1.7\n",
      "players \t\t 1.695\n",
      "everton \t\t 1.676\n",
      "seed \t\t 1.669\n",
      "meters \t\t 1.655\n",
      "club \t\t 1.648\n",
      "brawl \t\t 1.641\n",
      "defender \t\t 1.64\n",
      "league \t\t 1.636\n",
      "ron \t\t 1.62\n",
      "par \t\t 1.617\n",
      "team \t\t 1.601\n",
      "jim \t\t 1.599\n",
      "ricky \t\t 1.582\n",
      "champion \t\t 1.58\n",
      "nets \t\t 1.574\n",
      "cubs \t\t 1.566\n",
      "notre \t\t 1.561\n",
      "pga \t\t 1.542\n",
      "celtics \t\t 1.536\n",
      "offense \t\t 1.536\n",
      "athletics \t\t 1.528\n",
      "agent \t\t 1.523\n",
      "defensive \t\t 1.514\n",
      "packers \t\t 1.513\n",
      "newcastle \t\t 1.509\n",
      "orioles \t\t 1.505\n",
      "diego \t\t 1.501\n",
      "diamondbacks \t\t 1.499\n",
      "steroids \t\t 1.499\n",
      "milwaukee \t\t 1.496\n",
      "hockey \t\t 1.493\n",
      "devil \t\t 1.47\n",
      "ken \t\t 1.468\n",
      "masters \t\t 1.46\n",
      "yankees \t\t 1.458\n"
     ]
    }
   ],
   "source": [
    "print('-'*10,'100 KEYWORD ASSOCIATED WITH [SPORTS] CATEGORY')\n",
    "for i in indices[:100]:\n",
    "    print('{} \\t\\t {}'.format(words[i], np.around(weight[i], 3)))"
   ]
  },
  {
   "cell_type": "markdown",
   "metadata": {},
   "source": [
    "# 3 Business VS Rest"
   ]
  },
  {
   "cell_type": "code",
   "execution_count": 32,
   "metadata": {},
   "outputs": [
    {
     "name": "stderr",
     "output_type": "stream",
     "text": [
      "/usr/local/lib/python3.6/dist-packages/sklearn/linear_model/logistic.py:432: FutureWarning: Default solver will be changed to 'lbfgs' in 0.22. Specify a solver to silence this warning.\n",
      "  FutureWarning)\n"
     ]
    }
   ],
   "source": [
    "clf = sklearn.linear_model.LogisticRegression()\n",
    "clf.fit(X_train['docs'], y_3_buss)\n",
    "\n",
    "weight = clf.coef_[0]\n",
    "words = cv.get_feature_names()\n",
    "\n",
    "indices = np.argsort(weight)[::-1]"
   ]
  },
  {
   "cell_type": "code",
   "execution_count": 33,
   "metadata": {},
   "outputs": [
    {
     "name": "stdout",
     "output_type": "stream",
     "text": [
      "---------- 100 KEYWORD ASSOCIATED WITH [BUSINESS] CATEGORY\n",
      "forbes \t\t 3.814\n",
      "hollinger \t\t 3.075\n",
      "enron \t\t 2.861\n",
      "newratings \t\t 2.694\n",
      "alitalia \t\t 2.596\n",
      "martha \t\t 2.473\n",
      "halliburton \t\t 2.263\n",
      "com/fullquote \t\t 2.139\n",
      "stocks/quickinfo/fullquote \t\t 2.139\n",
      "aspx \t\t 2.139\n",
      "treasury \t\t 2.059\n",
      "vioxx \t\t 2.048\n",
      "jobless \t\t 2.04\n",
      "opec \t\t 2.018\n",
      "mutual \t\t 2.008\n",
      "airlines \t\t 1.988\n",
      "retailers \t\t 1.962\n",
      "stern \t\t 1.919\n",
      "massachusetts \t\t 1.904\n",
      "href \t\t 1.894\n",
      "kmart \t\t 1.837\n",
      "mw \t\t 1.817\n",
      "disney \t\t 1.808\n",
      "cnn/money \t\t 1.8\n",
      "monetary \t\t 1.795\n",
      "marsh \t\t 1.774\n",
      "tax \t\t 1.77\n",
      "casino \t\t 1.763\n",
      "fannie \t\t 1.761\n",
      "insurance \t\t 1.758\n",
      "mortgage \t\t 1.749\n",
      "quote \t\t 1.74\n",
      "bidding \t\t 1.726\n",
      "estate \t\t 1.695\n",
      "nyse \t\t 1.671\n",
      "sbc \t\t 1.648\n",
      "amp \t\t 1.613\n",
      "motors \t\t 1.606\n",
      "steel \t\t 1.597\n",
      "insurers \t\t 1.583\n",
      "funds \t\t 1.582\n",
      "insurer \t\t 1.579\n",
      "finance \t\t 1.573\n",
      "sears \t\t 1.565\n",
      "loan \t\t 1.558\n",
      "hugo \t\t 1.55\n",
      "cent \t\t 1.543\n",
      "economists \t\t 1.523\n",
      "retailer \t\t 1.521\n",
      "dividend \t\t 1.491\n",
      "improper \t\t 1.491\n",
      "bank \t\t 1.484\n",
      "foods \t\t 1.47\n",
      "airways \t\t 1.451\n",
      "harmony \t\t 1.434\n",
      "christmas \t\t 1.43\n",
      "rental \t\t 1.426\n",
      "income \t\t 1.425\n",
      "investment \t\t 1.411\n",
      "citigroup \t\t 1.398\n",
      "hotels \t\t 1.389\n",
      "thanksgiving \t\t 1.379\n",
      "profits \t\t 1.377\n",
      "clothing \t\t 1.374\n",
      "eisner \t\t 1.36\n",
      "economy \t\t 1.354\n",
      "chosen \t\t 1.351\n",
      "murdoch \t\t 1.343\n",
      "fees \t\t 1.338\n",
      "securities \t\t 1.335\n",
      "imports \t\t 1.334\n",
      "detroit \t\t 1.334\n",
      "pfizer \t\t 1.331\n",
      "producer \t\t 1.326\n",
      "bell \t\t 1.308\n",
      "nikkei \t\t 1.307\n",
      "stewart \t\t 1.305\n",
      "slid \t\t 1.295\n",
      "automaker \t\t 1.29\n",
      "yukos \t\t 1.283\n",
      "airbus \t\t 1.279\n",
      "_ \t\t 1.277\n",
      "bond \t\t 1.271\n",
      "factories \t\t 1.262\n",
      "holiday \t\t 1.244\n",
      "mae \t\t 1.241\n",
      "above \t\t 1.236\n",
      "stock \t\t 1.233\n",
      "euro \t\t 1.225\n",
      "banks \t\t 1.224\n",
      "boston \t\t 1.213\n",
      "boeing \t\t 1.209\n",
      "snow \t\t 1.208\n",
      "dow \t\t 1.198\n",
      "tobacco \t\t 1.198\n",
      "unexpectedly \t\t 1.19\n",
      "heating \t\t 1.185\n",
      "stake \t\t 1.155\n",
      "currency \t\t 1.154\n",
      "hiring \t\t 1.152\n"
     ]
    }
   ],
   "source": [
    "print('-'*10,'100 KEYWORD ASSOCIATED WITH [BUSINESS] CATEGORY')\n",
    "for i in indices[:100]:\n",
    "    print('{} \\t\\t {}'.format(words[i], np.around(weight[i], 3)))"
   ]
  },
  {
   "cell_type": "markdown",
   "metadata": {},
   "source": [
    "# 4 Sci/Tech VS Rest"
   ]
  },
  {
   "cell_type": "code",
   "execution_count": 34,
   "metadata": {},
   "outputs": [
    {
     "name": "stderr",
     "output_type": "stream",
     "text": [
      "/usr/local/lib/python3.6/dist-packages/sklearn/linear_model/logistic.py:432: FutureWarning: Default solver will be changed to 'lbfgs' in 0.22. Specify a solver to silence this warning.\n",
      "  FutureWarning)\n"
     ]
    }
   ],
   "source": [
    "clf = sklearn.linear_model.LogisticRegression()\n",
    "clf.fit(X_train['docs'], y_4_scitech)\n",
    "\n",
    "weight = clf.coef_[0]\n",
    "words = cv.get_feature_names()\n",
    "\n",
    "indices = np.argsort(weight)[::-1]"
   ]
  },
  {
   "cell_type": "code",
   "execution_count": 35,
   "metadata": {},
   "outputs": [
    {
     "name": "stdout",
     "output_type": "stream",
     "text": [
      "---------- 100 KEYWORD ASSOCIATED WITH [BUSINESS] CATEGORY\n",
      "nasa \t\t 3.228\n",
      "helens \t\t 2.969\n",
      "newsfactor \t\t 2.816\n",
      "ziff \t\t 2.805\n",
      "evolution \t\t 2.678\n",
      "xbox \t\t 2.624\n",
      "voip \t\t 2.623\n",
      "worm \t\t 2.585\n",
      "cyber \t\t 2.522\n",
      "hp \t\t 2.446\n",
      "washingtonpost \t\t 2.43\n",
      "spaceshipone \t\t 2.406\n",
      "birds \t\t 2.4\n",
      "linux \t\t 2.389\n",
      "hackers \t\t 2.381\n",
      "spam \t\t 2.321\n",
      "space \t\t 2.292\n",
      "mp3 \t\t 2.267\n",
      "arctic \t\t 2.241\n",
      "moon \t\t 2.193\n",
      "apple \t\t 2.189\n",
      "kennedy \t\t 2.18\n",
      "mars \t\t 2.163\n",
      "halo \t\t 2.116\n",
      "astronauts \t\t 2.061\n",
      "nintendo \t\t 2.04\n",
      "mozilla \t\t 2.012\n",
      "saturn \t\t 2.007\n",
      "processors \t\t 1.987\n",
      "astronomers \t\t 1.94\n",
      "telescope \t\t 1.901\n",
      "scientists \t\t 1.885\n",
      "dna \t\t 1.862\n",
      "humans \t\t 1.851\n",
      "browser \t\t 1.822\n",
      "firefox \t\t 1.738\n",
      "id \t\t 1.721\n",
      "science \t\t 1.714\n",
      "code \t\t 1.707\n",
      "branson \t\t 1.687\n",
      "java \t\t 1.656\n",
      "roundup \t\t 1.654\n",
      "pollution \t\t 1.647\n",
      "shuttle \t\t 1.616\n",
      "recording \t\t 1.609\n",
      "supercomputer \t\t 1.592\n",
      "laboratory \t\t 1.592\n",
      "dvd \t\t 1.585\n",
      "sp2 \t\t 1.579\n",
      "msn \t\t 1.569\n",
      "beta \t\t 1.568\n",
      "theft \t\t 1.561\n",
      "nokia \t\t 1.544\n",
      "disk \t\t 1.534\n",
      "scientific \t\t 1.533\n",
      "ship \t\t 1.531\n",
      "discovered \t\t 1.526\n",
      "pack \t\t 1.525\n",
      "web \t\t 1.503\n",
      "rocket \t\t 1.494\n",
      "flaw \t\t 1.49\n",
      "article \t\t 1.487\n",
      "lt \t\t 1.473\n",
      "vulnerabilities \t\t 1.473\n",
      "researchers \t\t 1.453\n",
      "playstation \t\t 1.438\n",
      "solar \t\t 1.435\n",
      "server \t\t 1.435\n",
      "sven \t\t 1.423\n",
      "study \t\t 1.423\n",
      "engines \t\t 1.414\n",
      "spammers \t\t 1.413\n",
      "internet \t\t 1.412\n",
      "spacecraft \t\t 1.403\n",
      "established \t\t 1.385\n",
      "spyware \t\t 1.371\n",
      "scientist \t\t 1.369\n",
      "wi \t\t 1.357\n",
      "wired \t\t 1.357\n",
      "infoworld \t\t 1.35\n",
      "amd \t\t 1.347\n",
      "fi \t\t 1.338\n",
      "endangered \t\t 1.328\n",
      "video \t\t 1.319\n",
      "inch \t\t 1.301\n",
      "developed \t\t 1.3\n",
      "itunes \t\t 1.3\n",
      "warming \t\t 1.29\n",
      "environmental \t\t 1.271\n",
      "format \t\t 1.27\n",
      "species \t\t 1.27\n",
      "cassini \t\t 1.256\n",
      "microsystems \t\t 1.247\n",
      "yahoo \t\t 1.242\n",
      "ebay \t\t 1.241\n",
      "maccentral \t\t 1.238\n",
      "discovery \t\t 1.231\n",
      "sites \t\t 1.23\n",
      "sky \t\t 1.229\n",
      "software \t\t 1.224\n"
     ]
    }
   ],
   "source": [
    "print('-'*10,'100 KEYWORD ASSOCIATED WITH [BUSINESS] CATEGORY')\n",
    "for i in indices[:100]:\n",
    "    print('{} \\t\\t {}'.format(words[i], np.around(weight[i], 3)))"
   ]
  },
  {
   "cell_type": "markdown",
   "metadata": {},
   "source": [
    "## Processing all keywords for AGnews (Sci/tech and sports)"
   ]
  },
  {
   "cell_type": "code",
   "execution_count": 33,
   "metadata": {},
   "outputs": [
    {
     "name": "stdout",
     "output_type": "stream",
     "text": [
      "{'total_scitech': 43, 'total_world': 36, 'total': 79}\n",
      "{'total_scitech': 77, 'total_world': 73, 'total': 150}\n",
      "{'total_scitech': 109, 'total_world': 107, 'total': 216}\n"
     ]
    }
   ],
   "source": [
    "import json\n",
    "import glob\n",
    "\n",
    "KEYWORD_DIR = \"/home/anneke/Documents/ann-mitchell-text-classification/data/agnews-sci_sport-keywords\"\n",
    "\n",
    "filelist = glob.glob1(KEYWORD_DIR, \"*.txt\")\n",
    "\n",
    "arxiv_keyword = {}\n",
    "arxiv_keyword['100'] = {}\n",
    "arxiv_keyword['200'] = {}\n",
    "arxiv_keyword['300'] = {}\n",
    "\n",
    "keys = {}\n",
    "\n",
    "for file in filelist:\n",
    "    with open(os.path.join(KEYWORD_DIR, file), 'r') as text:\n",
    "        file_token = file[:-4].split('-')\n",
    "\n",
    "        f = text.readlines()\n",
    "        keylist = []\n",
    "        for l in f:\n",
    "            keylist.append(l.strip())\n",
    "\n",
    "        arxiv_keyword[file_token[-1]][file_token[-2]] = keylist\n",
    "        \n",
    "for i in range(100, 301, 100):\n",
    "    arxiv_keyword[str(i)]['summary'] = {}\n",
    "    arxiv_keyword[str(i)]['summary']['total_scitech'] = len(arxiv_keyword[str(i)]['scitech'])\n",
    "    arxiv_keyword[str(i)]['summary']['total_world'] = len(arxiv_keyword[str(i)]['world'])\n",
    "    arxiv_keyword[str(i)]['summary']['total'] = arxiv_keyword[str(i)]['summary']['total_scitech'] + arxiv_keyword[str(i)]['summary']['total_world']\n",
    "    \n",
    "for i in range(100, 301, 100):\n",
    "    print(arxiv_keyword[str(i)]['summary'])\n",
    "    \n",
    "# save to JSON file\n",
    "with open(os.path.join(KEYWORD_DIR, 'agnews_scitechworld_keywords.json'), 'w') as json_file:\n",
    "    json.dump(arxiv_keyword, json_file, indent=4)"
   ]
  },
  {
   "cell_type": "code",
   "execution_count": 36,
   "metadata": {},
   "outputs": [],
   "source": [
    "agnews_dict = {}\n",
    "agnews_dict['length'] = []\n",
    "agnews_dict['scitech'] = []\n",
    "agnews_dict['world'] = []\n",
    "agnews_dict['total'] = []\n",
    "\n",
    "\n",
    "for i in range(100, 301, 100):\n",
    "    agnews_dict['length'].append(i)\n",
    "    agnews_dict['scitech'].append(arxiv_keyword[str(i)]['summary']['total_scitech'])\n",
    "    agnews_dict['world'].append(arxiv_keyword[str(i)]['summary']['total_world'])\n",
    "    agnews_dict['total'].append(arxiv_keyword[str(i)]['summary']['total'])"
   ]
  },
  {
   "cell_type": "code",
   "execution_count": 37,
   "metadata": {},
   "outputs": [
    {
     "data": {
      "text/html": [
       "<div>\n",
       "<style scoped>\n",
       "    .dataframe tbody tr th:only-of-type {\n",
       "        vertical-align: middle;\n",
       "    }\n",
       "\n",
       "    .dataframe tbody tr th {\n",
       "        vertical-align: top;\n",
       "    }\n",
       "\n",
       "    .dataframe thead th {\n",
       "        text-align: right;\n",
       "    }\n",
       "</style>\n",
       "<table border=\"1\" class=\"dataframe\">\n",
       "  <thead>\n",
       "    <tr style=\"text-align: right;\">\n",
       "      <th></th>\n",
       "      <th>length</th>\n",
       "      <th>scitech</th>\n",
       "      <th>world</th>\n",
       "      <th>total</th>\n",
       "    </tr>\n",
       "  </thead>\n",
       "  <tbody>\n",
       "    <tr>\n",
       "      <th>0</th>\n",
       "      <td>100</td>\n",
       "      <td>43</td>\n",
       "      <td>36</td>\n",
       "      <td>79</td>\n",
       "    </tr>\n",
       "    <tr>\n",
       "      <th>1</th>\n",
       "      <td>200</td>\n",
       "      <td>77</td>\n",
       "      <td>73</td>\n",
       "      <td>150</td>\n",
       "    </tr>\n",
       "    <tr>\n",
       "      <th>2</th>\n",
       "      <td>300</td>\n",
       "      <td>109</td>\n",
       "      <td>107</td>\n",
       "      <td>216</td>\n",
       "    </tr>\n",
       "  </tbody>\n",
       "</table>\n",
       "</div>"
      ],
      "text/plain": [
       "   length  scitech  world  total\n",
       "0     100       43     36     79\n",
       "1     200       77     73    150\n",
       "2     300      109    107    216"
      ]
     },
     "execution_count": 37,
     "metadata": {},
     "output_type": "execute_result"
    }
   ],
   "source": [
    "agnews_df = pd.DataFrame(agnews_dict)\n",
    "agnews_df"
   ]
  },
  {
   "cell_type": "code",
   "execution_count": null,
   "metadata": {},
   "outputs": [],
   "source": []
  }
 ],
 "metadata": {
  "kernelspec": {
   "display_name": "Python 3",
   "language": "python",
   "name": "python3"
  },
  "language_info": {
   "codemirror_mode": {
    "name": "ipython",
    "version": 3
   },
   "file_extension": ".py",
   "mimetype": "text/x-python",
   "name": "python",
   "nbconvert_exporter": "python",
   "pygments_lexer": "ipython3",
   "version": "3.6.8"
  }
 },
 "nbformat": 4,
 "nbformat_minor": 2
}
